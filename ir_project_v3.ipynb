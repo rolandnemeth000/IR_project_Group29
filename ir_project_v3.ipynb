{
 "cells": [
  {
   "cell_type": "markdown",
   "metadata": {},
   "source": [
    "# Information Retrieval Project Group-T-29\n",
    "\n",
    "## Authors:\n",
    "\n",
    "Alexandru Ciutacu, s1032974\n",
    "\n",
    "Roland Németh, s1033711"
   ]
  },
  {
   "cell_type": "markdown",
   "metadata": {},
   "source": [
    "## Imports"
   ]
  },
  {
   "cell_type": "code",
   "execution_count": 1,
   "metadata": {},
   "outputs": [
    {
     "name": "stdout",
     "output_type": "stream",
     "text": [
      "\u001b[38;5;2m✔ Download and installation successful\u001b[0m\n",
      "You can now load the package via spacy.load('en_core_web_md')\n"
     ]
    },
    {
     "name": "stderr",
     "output_type": "stream",
     "text": [
      "[nltk_data] Downloading package punkt to /home/alex/nltk_data...\n",
      "[nltk_data]   Package punkt is already up-to-date!\n",
      "[nltk_data] Downloading package wordnet to /home/alex/nltk_data...\n",
      "[nltk_data]   Package wordnet is already up-to-date!\n",
      "[nltk_data] Downloading package stopwords to /home/alex/nltk_data...\n",
      "[nltk_data]   Package stopwords is already up-to-date!\n",
      "[nltk_data] Downloading package averaged_perceptron_tagger to\n",
      "[nltk_data]     /home/alex/nltk_data...\n",
      "[nltk_data]   Package averaged_perceptron_tagger is already up-to-\n",
      "[nltk_data]       date!\n"
     ]
    },
    {
     "data": {
      "text/plain": [
       "True"
      ]
     },
     "execution_count": 1,
     "metadata": {},
     "output_type": "execute_result"
    }
   ],
   "source": [
    "# Installing Required Libraries\n",
    "!pip install -r requirements.txt\n",
    "\n",
    "#Importing Necessary Libraries\n",
    "import seaborn as sns\n",
    "import pandas as pd\n",
    "import numpy as np\n",
    "import matplotlib.pyplot as plt\n",
    "import json\n",
    "\n",
    "# Import libraries for information retrieval and text processing\n",
    "import re\n",
    "import ir_datasets\n",
    "import nltk\n",
    "from nltk.tokenize import word_tokenize\n",
    "from nltk.corpus import stopwords\n",
    "from nltk.stem import PorterStemmer\n",
    "from nltk.stem import WordNetLemmatizer\n",
    "import pytrec_eval\n",
    "import gensim.downloader as api\n",
    "from rank_bm25 import BM25Okapi\n",
    "\n",
    "#Section 3: Setting Up Word Embeddings\n",
    "word_vectors = api.load(\"word2vec-google-news-300\")\n",
    "\n",
    "#Downloading NLTK Resources\n",
    "nltk.download('punkt')\n",
    "nltk.download('wordnet')\n",
    "nltk.download('stopwords')\n",
    "nltk.download('averaged_perceptron_tagger')\n"
   ]
  },
  {
   "cell_type": "markdown",
   "metadata": {},
   "source": [
    "## Helper Functions"
   ]
  },
  {
   "cell_type": "code",
   "execution_count": 2,
   "metadata": {},
   "outputs": [],
   "source": [
    "def preprocess_corpus(dataset):\n",
    "    # Initialize stemmer, lemmatizer, and English stop words\n",
    "    stemmer = PorterStemmer()\n",
    "    lemmatizer = WordNetLemmatizer()\n",
    "    stop_words = set(stopwords.words('english'))\n",
    "\n",
    "    processed_corpus = {}\n",
    "\n",
    "    # Process each document in the dataset\n",
    "    for doc in dataset.docs_iter():\n",
    "        text = f'{doc.title} {doc.abstract}'  # Combine title and abstract\n",
    "        text_lower = text.lower()  # Convert to lower case\n",
    "        tokens = word_tokenize(text_lower)  # Tokenization\n",
    "        filtered_tokens = [token for token in tokens if token not in stop_words]  # Remove stopwords\n",
    "        lemmatized_tokens = [lemmatizer.lemmatize(token) for token in filtered_tokens]  # Lemmatize tokens\n",
    "        stemmed_tokens = [stemmer.stem(token) for token in lemmatized_tokens]  # Stem lemmatized tokens\n",
    "        processed_corpus.update({doc.doc_id: stemmed_tokens})  # Save processed text\n",
    "\n",
    "    return processed_corpus\n",
    "\n",
    "def preprocess_query(query):\n",
    "    # Initialize stemmer, lemmatizer, and English stop words\n",
    "    stemmer = PorterStemmer()\n",
    "    lemmatizer = WordNetLemmatizer()\n",
    "    stop_words = set(stopwords.words('english'))\n",
    "\n",
    "    lower_query = query.lower()  # Convert query to lower case\n",
    "    tokens = word_tokenize(lower_query)  # Tokenize query\n",
    "    filtered_tokens = [token for token in tokens if token not in stop_words]  # Remove stopwords\n",
    "    lemmatized_tokens = [lemmatizer.lemmatize(token) for token in filtered_tokens]  # Lemmatize tokens\n",
    "    stemmed_tokens = [stemmer.stem(token) for token in lemmatized_tokens]  # Stem lemmatized tokens\n",
    "    return stemmed_tokens\n",
    "\n",
    "def retrieve_documents_round5(bm25, query, index_to_doc_id):\n",
    "    results_dict = {}\n",
    "    prepped_query = preprocess_query(query)  # Preprocess query\n",
    "    doc_scores = bm25.get_scores(prepped_query)  # Get document scores from BM25\n",
    "    for index, score in enumerate(doc_scores):\n",
    "        results_dict.update({index_to_doc_id[index]: score})  # Map scores to document IDs\n",
    "    return results_dict\n",
    "\n",
    "def is_standard_word(word):\n",
    "    return re.fullmatch(r'[a-z]+', word) is not None  # Check if word consists only of lowercase letters\n",
    "\n",
    "def create_synonym_dict(dataset, word_vectors):\n",
    "    # Create a \"synonym dictionary\n",
    "    query_syn = {}\n",
    "    corona_words = frozenset(['coronavirus', 'sars-cov', 'covid', 'sars-cov-2', 'covid-19'])  # Set of COVID-19 related terms\n",
    "    for query in dataset.queries_iter():\n",
    "        for qt in word_tokenize(query.title.lower()):\n",
    "            if qt not in query_syn.keys():\n",
    "                sub_dict = {}\n",
    "                if qt in corona_words:  # Special handling for COVID-19 terms\n",
    "                    for cw in corona_words:\n",
    "                        if cw != qt:\n",
    "                            sub_dict.update({cw: 1})  # Assign similarity of 1 for COVID-19 terms\n",
    "                if qt in word_vectors.key_to_index:\n",
    "                    # Retrieve the top 100 most similar words\n",
    "                    for similar_word, similarity in word_vectors.most_similar(qt, topn=100):\n",
    "                        if is_standard_word(similar_word):\n",
    "                            sub_dict.update({similar_word: similarity})  # Add similar words and their similarity scores\n",
    "                query_syn.update({qt: sub_dict})\n",
    "    return query_syn\n",
    "\n",
    "def expand_query(query, syn_dict, threshold=0):\n",
    "    # Naive expansion\" of the query\n",
    "    def get_related_words(word, syn_dict, threshold):\n",
    "        related_words = set()\n",
    "        if word in syn_dict.keys():\n",
    "            # Return similar words from the synonym dictionary\n",
    "            for similar_word, similarity in syn_dict[word].items():\n",
    "                # Check for threshold\n",
    "                if similarity >= threshold:\n",
    "                    related_words.add(similar_word)\n",
    "        return list(related_words)\n",
    "    \n",
    "    related_words = []\n",
    "    for word in word_tokenize(query.lower()):\n",
    "        related_words += get_related_words(word, syn_dict, threshold)  # Get related words for each word in query\n",
    "\n",
    "    expanded_query = query + ' ' + ' '.join(set(related_words))  # Append related words to the query\n",
    "    return expanded_query\n",
    "\n",
    "\n",
    "\n",
    "def weighted_query_expansion(query, syn_dict, threshold=0, ratio=1):\n",
    "    original_terms = word_tokenize(query.lower())\n",
    "    expanded_query = []\n",
    "    \n",
    "    for term in original_terms:\n",
    "        added_synonyms = 0\n",
    "        if term in syn_dict.keys():\n",
    "            for synonym, similarity in syn_dict[term].items():\n",
    "                if similarity >= threshold:\n",
    "                    expanded_query.append(synonym)  # Add synonym if it meets the threshold\n",
    "                    added_synonyms += 1\n",
    "        expanded_query.extend([term] * max(1, ratio * added_synonyms))  # Add original term weighted by number of synonyms\n",
    "    \n",
    "    return ' '.join(expanded_query)  # Return the expanded query\n"
   ]
  },
  {
   "cell_type": "code",
   "execution_count": 3,
   "metadata": {},
   "outputs": [],
   "source": [
    "def precision_at_k(col, scores, qrels, k):\n",
    "    # Calculate precision at rank k for a given column (col)\n",
    "    total_sum = 0\n",
    "    top_k_scores = scores[col].sort_values(ascending=False).iloc[:k]  # Get top k scores\n",
    "    top_k_indices = top_k_scores.index  # Extract indices of top k scores\n",
    "    for idx in top_k_indices:\n",
    "        # Increment total_sum for relevant documents\n",
    "        if idx in qrels[col].index:\n",
    "            total_sum += 1 if qrels[col].loc[idx] == 2 else 0\n",
    "    precision = total_sum / k  # Calculate precision\n",
    "    return precision\n",
    "\n",
    "def recall_at_k(col, scores, qrels, k):\n",
    "    # Calculate recall at rank k for a given column (col)\n",
    "    total_sum = 0\n",
    "    top_k_scores = scores[col].sort_values(ascending=False).iloc[:k]  # Get top k scores\n",
    "    top_k_indices = top_k_scores.index  # Extract indices of top k scores\n",
    "    for idx in top_k_indices:\n",
    "        # Increment total_sum for relevant documents\n",
    "        if idx in qrels[col].index:\n",
    "            total_sum += 1 if qrels[col].loc[idx] == 2 else 0\n",
    "    recall = total_sum / qrels[col][qrels[col] == 2].count()  # Calculate recall\n",
    "    return recall\n",
    "\n",
    "def average_precision(scores, qrels):\n",
    "    # Calculate average precision for each column in scores\n",
    "    average_precision_values = {}\n",
    "    for col in qrels.columns:\n",
    "        sorted_scores = scores[col].sort_values(ascending=False)\n",
    "        sorted_indices = sorted_scores.index\n",
    "        relevant_retrieved = 0\n",
    "        precision_sum = 0\n",
    "        num_relevant = qrels[col].value_counts().get(2, 0)  # Count most relevant documents\n",
    "        for rank, idx in enumerate(sorted_indices, start=1):\n",
    "            if idx in qrels[col].index and qrels[col][idx] == 2:\n",
    "                relevant_retrieved += 1\n",
    "                precision_at_this_rank = precision_at_k(col, scores, qrels, rank)\n",
    "                precision_sum += precision_at_this_rank\n",
    "        ap = precision_sum / num_relevant if num_relevant > 0 else 0  # Calculate AP\n",
    "        average_precision_values[col] = ap\n",
    "    return average_precision_values\n",
    "\n",
    "def MAP(ap):\n",
    "    # Calculate Mean Average Precision (MAP)\n",
    "    if isinstance(ap, pd.Series):\n",
    "        return ap.mean()\n",
    "    return pd.Series(ap).mean()\n",
    "\n",
    "def DCG_at_k(col, scores, qrels, k):\n",
    "    # Calculate Discounted Cumulative Gain (DCG) at rank k for a given column (col)\n",
    "    top_k_scores = scores[col].sort_values(ascending=False).iloc[:k]\n",
    "    top_k_indices = top_k_scores.index\n",
    "    dcg = 0\n",
    "    for rank, idx in enumerate(top_k_indices, start=1):\n",
    "        if idx in qrels.index:\n",
    "            gains = 1 if qrels[col].loc[idx] == 2 else 0\n",
    "            discounts = np.log2(1 + rank)\n",
    "            dcg += gains / discounts  # Calculate DCG\n",
    "    return dcg\n",
    "\n",
    "def NDCG_at_k(col, scores, qrels, k):\n",
    "    # Calculate Normalized Discounted Cumulative Gain (NDCG) at rank k for a given column (col)\n",
    "    dcg = DCG_at_k(col, scores, qrels, k)\n",
    "    ideal_qrels = qrels.sort_values(by=col, ascending=False)\n",
    "    ideal_ranking = scores.loc[ideal_qrels.index]\n",
    "    ideal_ranking = ideal_ranking[col].sort_values(ascending=False).iloc[:k]\n",
    "    \n",
    "    idcg = 0  # Ideal DCG\n",
    "    for i in range(k):\n",
    "        gain = 1 if 1 < len(ideal_ranking) and ideal_qrels[col].iloc[i] == 2 else 0\n",
    "        discount = np.log2(1 + i + 1)\n",
    "        idcg += gain / discount\n",
    "    ndcg = dcg / idcg if idcg > 0 else 0  # Calculate NDCG\n",
    "    return ndcg\n"
   ]
  },
  {
   "cell_type": "code",
   "execution_count": 4,
   "metadata": {},
   "outputs": [],
   "source": [
    "def rank_and_dump(file_name, dataset, bm25, idx2docids):\n",
    "    #Ranks documents for each query in the dataset using the BM25 model and dumps the results to a JSON file.\n",
    "    results = {}\n",
    "    for query in dataset.queries_iter():\n",
    "        original_query = query.title # Get query\n",
    "        # Retrieve documents\n",
    "        documents_scores = retrieve_documents_round5(bm25, original_query, idx2docids)\n",
    "        results.update({query.query_id: documents_scores})\n",
    "\n",
    "    # Save results\n",
    "    with open(f'{file_name}.json', 'w', encoding ='utf8') as json_file:\n",
    "        json.dump(results, json_file)\n",
    "    \n",
    "    print('Ranking done!')\n",
    "    \n",
    "    return None\n",
    "        \n",
    "def rank_and_dump_expanded(file_name, dataset, bm25, idx2docids, syn_dict, threshold=0,  mode='normal', ratio=1):\n",
    "    #Ranks documents for each query in the dataset using BM25 with expanded queries and dumps the results to a JSON file.\n",
    "    results = {}\n",
    "    for query in dataset.queries_iter():\n",
    "        # select mode - 'normal' is naive\n",
    "        match mode:\n",
    "            case 'normal':\n",
    "                expanded_query = expand_query(query.title, syn_dict, threshold)\n",
    "            case 'weighted':\n",
    "                expanded_query = weighted_query_expansion(query.title, syn_dict, threshold, ratio)\n",
    "            case _:\n",
    "                print('Defaulting to \\'normal\\'')\n",
    "                expanded_query = expand_query(query.title, syn_dict, threshold)\n",
    "\n",
    "        scores = retrieve_documents_round5(bm25, expanded_query, idx2docids)\n",
    "        results.update({query.query_id: scores})\n",
    "    \n",
    "    # Save results\n",
    "    with open(f'{file_name}.json', 'w', encoding ='utf8') as json_file:\n",
    "        json.dump(results, json_file)\n",
    "    \n",
    "    print('Ranking done!')\n",
    "    \n",
    "    return None\n",
    "        \n",
    "        \n",
    "def eval_scores(input_file, qrel):\n",
    "    #Evaluates the ranked results using standard IR metrics and dumps the evaluation to a JSON file.\n",
    "        \n",
    "    with open(f'{input_file}.json', mode='r', encoding='utf8') as file: \n",
    "        run = json.load(file)\n",
    "        \n",
    "    evaluator = pytrec_eval.RelevanceEvaluator(qrel, {'map_cut', 'ndcg_cut', 'recall', 'infAP', 'ndcg', 'map'})\n",
    "     \n",
    "    with open(f'{input_file}_eval.json', 'w', encoding ='utf8') as json_file:\n",
    "        json.dump(evaluator.evaluate(run), json_file, indent=4)\n",
    "    \n",
    "    print('Evaluation done!')\n",
    "    \n",
    "    return None"
   ]
  },
  {
   "cell_type": "code",
   "execution_count": 5,
   "metadata": {},
   "outputs": [],
   "source": [
    "def format_qrels4eval(dataset):\n",
    "    #Get query relevance scores ready for evaluation.\n",
    "    qrel_dict = {}\n",
    "    for query in dataset.qrels_iter():\n",
    "        try:\n",
    "            qrel_dict[query.query_id].update({query.doc_id: query.relevance})\n",
    "        except KeyError:\n",
    "            qrel_dict.update({query.query_id: {query.doc_id: query.relevance}})\n",
    "    return qrel_dict"
   ]
  },
  {
   "cell_type": "markdown",
   "metadata": {},
   "source": [
    "## Dataset"
   ]
  },
  {
   "cell_type": "code",
   "execution_count": 2,
   "metadata": {},
   "outputs": [],
   "source": [
    "# Loading Round 5\n",
    "dataset_round5 = ir_datasets.load(\"cord19/trec-covid/round5\")"
   ]
  },
  {
   "cell_type": "markdown",
   "metadata": {},
   "source": [
    "### Preprocessing the dataset"
   ]
  },
  {
   "cell_type": "code",
   "execution_count": 7,
   "metadata": {},
   "outputs": [],
   "source": [
    "# Preparing the corpus for round 5\n",
    "# Run this once\n",
    "corpus_round5 = preprocess_corpus(dataset_round5)\n",
    "\n",
    "# Save preprocessed corpus\n",
    "with open('preprocessed_round5.json', mode='w', encoding='utf8') as corpus:\n",
    "    json.dump(corpus_round5, corpus, indent=4)\n",
    "\n",
    "del corpus_round5\n",
    "\n",
    "\n",
    "# Save preprocessed query relevances\n",
    "with open('qrel4eval.json', mode='w', encoding='utf8') as qrels4eval:\n",
    "    json.dump(format_qrels4eval(dataset_round5), qrels4eval, indent=4)\n",
    "\n",
    "\n",
    "# Save Synonym dictionary  \n",
    "with open('synonym_dict_google.json', mode='w', encoding='utf8') as syn_dict1:\n",
    "    json.dump(create_synonym_dict(dataset_round5, word_vectors), syn_dict1, indent=4)\n",
    "    "
   ]
  },
  {
   "cell_type": "code",
   "execution_count": 8,
   "metadata": {},
   "outputs": [],
   "source": [
    "# Run after running the previous cell once\n",
    "# Load necessary preprocessed files\n",
    "with open('preprocessed_round5.json', mode='r', encoding='utf8') as corpus:\n",
    "    corpus_round5 = json.load(corpus)\n",
    "    \n",
    "idx2docids, corpus_text = list(corpus_round5.keys()), list(corpus_round5.values())\n",
    "\n",
    "del corpus_round5\n",
    "\n",
    "# Query relevances\n",
    "with open('qrel4eval.json', mode='r', encoding='utf8') as qrels4eval:\n",
    "    qrel = json.load(qrels4eval)\n",
    "    \n",
    "# Synonym dictionary\n",
    "with open('synonym_dict_google.json', mode='r', encoding='utf8') as syn_dict_file:\n",
    "    syn_dict = json.load(syn_dict_file)"
   ]
  },
  {
   "cell_type": "markdown",
   "metadata": {},
   "source": [
    "### Load corpus and initialize BM25"
   ]
  },
  {
   "cell_type": "code",
   "execution_count": 9,
   "metadata": {},
   "outputs": [],
   "source": [
    "bm25_round5 = BM25Okapi(corpus=corpus_text) # Initialize BM25"
   ]
  },
  {
   "cell_type": "markdown",
   "metadata": {},
   "source": [
    "## Run before experiments"
   ]
  },
  {
   "cell_type": "markdown",
   "metadata": {},
   "source": [
    "## BM25 baseline"
   ]
  },
  {
   "cell_type": "code",
   "execution_count": 10,
   "metadata": {},
   "outputs": [
    {
     "name": "stdout",
     "output_type": "stream",
     "text": [
      "Ranking done!\n"
     ]
    }
   ],
   "source": [
    "# Rank and save ranking scores\n",
    "rank_and_dump('baseline_bm25_scores', dataset_round5, bm25_round5, idx2docids)"
   ]
  },
  {
   "cell_type": "code",
   "execution_count": 11,
   "metadata": {},
   "outputs": [
    {
     "name": "stdout",
     "output_type": "stream",
     "text": [
      "Evaluation done!\n"
     ]
    }
   ],
   "source": [
    "# Evaluate and save scores\n",
    "eval_scores('baseline_bm25_scores', qrel)"
   ]
  },
  {
   "cell_type": "code",
   "execution_count": 12,
   "metadata": {},
   "outputs": [
    {
     "data": {
      "text/plain": [
       "recall_10      0.026302\n",
       "recall_20      0.036381\n",
       "ndcg_cut_10    0.272039\n",
       "ndcg_cut_20    0.244637\n",
       "infAP          0.114182\n",
       "map_cut_10     0.012690\n",
       "map_cut_20     0.016425\n",
       "ndcg           0.560995\n",
       "map            0.114180\n",
       "dtype: float64"
      ]
     },
     "execution_count": 12,
     "metadata": {},
     "output_type": "execute_result"
    }
   ],
   "source": [
    "#scores for each query for bm25\n",
    "evals = pd.read_json('baseline_bm25_scores_eval.json')\n",
    "evals.loc[['recall_10', 'recall_20', 'ndcg_cut_10', 'ndcg_cut_20', 'infAP', 'map_cut_10', 'map_cut_20', 'ndcg', 'map']].mean(axis=1)"
   ]
  },
  {
   "cell_type": "markdown",
   "metadata": {},
   "source": [
    "## Query Expansion by Synonyms"
   ]
  },
  {
   "cell_type": "code",
   "execution_count": 13,
   "metadata": {},
   "outputs": [
    {
     "data": {
      "text/html": [
       "<div>\n",
       "<style scoped>\n",
       "    .dataframe tbody tr th:only-of-type {\n",
       "        vertical-align: middle;\n",
       "    }\n",
       "\n",
       "    .dataframe tbody tr th {\n",
       "        vertical-align: top;\n",
       "    }\n",
       "\n",
       "    .dataframe thead th {\n",
       "        text-align: right;\n",
       "    }\n",
       "</style>\n",
       "<table border=\"1\" class=\"dataframe\">\n",
       "  <thead>\n",
       "    <tr style=\"text-align: right;\">\n",
       "      <th></th>\n",
       "      <th>coronavirus</th>\n",
       "      <th>origin</th>\n",
       "      <th>response</th>\n",
       "      <th>to</th>\n",
       "      <th>weather</th>\n",
       "      <th>changes</th>\n",
       "      <th>immunity</th>\n",
       "      <th>how</th>\n",
       "      <th>do</th>\n",
       "      <th>people</th>\n",
       "      <th>...</th>\n",
       "      <th>transmission</th>\n",
       "      <th>mental</th>\n",
       "      <th>health</th>\n",
       "      <th>dexamethasone</th>\n",
       "      <th>outcomes</th>\n",
       "      <th>children</th>\n",
       "      <th>school</th>\n",
       "      <th>reopening</th>\n",
       "      <th>post-infection</th>\n",
       "      <th>mrna</th>\n",
       "    </tr>\n",
       "  </thead>\n",
       "  <tbody>\n",
       "    <tr>\n",
       "      <th>sars-cov-2</th>\n",
       "      <td>1.000000</td>\n",
       "      <td>NaN</td>\n",
       "      <td>NaN</td>\n",
       "      <td>NaN</td>\n",
       "      <td>NaN</td>\n",
       "      <td>NaN</td>\n",
       "      <td>NaN</td>\n",
       "      <td>NaN</td>\n",
       "      <td>NaN</td>\n",
       "      <td>NaN</td>\n",
       "      <td>...</td>\n",
       "      <td>NaN</td>\n",
       "      <td>NaN</td>\n",
       "      <td>NaN</td>\n",
       "      <td>NaN</td>\n",
       "      <td>NaN</td>\n",
       "      <td>NaN</td>\n",
       "      <td>NaN</td>\n",
       "      <td>NaN</td>\n",
       "      <td>NaN</td>\n",
       "      <td>NaN</td>\n",
       "    </tr>\n",
       "    <tr>\n",
       "      <th>sars-cov</th>\n",
       "      <td>1.000000</td>\n",
       "      <td>NaN</td>\n",
       "      <td>NaN</td>\n",
       "      <td>NaN</td>\n",
       "      <td>NaN</td>\n",
       "      <td>NaN</td>\n",
       "      <td>NaN</td>\n",
       "      <td>NaN</td>\n",
       "      <td>NaN</td>\n",
       "      <td>NaN</td>\n",
       "      <td>...</td>\n",
       "      <td>NaN</td>\n",
       "      <td>NaN</td>\n",
       "      <td>NaN</td>\n",
       "      <td>NaN</td>\n",
       "      <td>NaN</td>\n",
       "      <td>NaN</td>\n",
       "      <td>NaN</td>\n",
       "      <td>NaN</td>\n",
       "      <td>NaN</td>\n",
       "      <td>NaN</td>\n",
       "    </tr>\n",
       "    <tr>\n",
       "      <th>covid-19</th>\n",
       "      <td>1.000000</td>\n",
       "      <td>NaN</td>\n",
       "      <td>NaN</td>\n",
       "      <td>NaN</td>\n",
       "      <td>NaN</td>\n",
       "      <td>NaN</td>\n",
       "      <td>NaN</td>\n",
       "      <td>NaN</td>\n",
       "      <td>NaN</td>\n",
       "      <td>NaN</td>\n",
       "      <td>...</td>\n",
       "      <td>NaN</td>\n",
       "      <td>NaN</td>\n",
       "      <td>NaN</td>\n",
       "      <td>NaN</td>\n",
       "      <td>NaN</td>\n",
       "      <td>NaN</td>\n",
       "      <td>NaN</td>\n",
       "      <td>NaN</td>\n",
       "      <td>NaN</td>\n",
       "      <td>NaN</td>\n",
       "    </tr>\n",
       "    <tr>\n",
       "      <th>covid</th>\n",
       "      <td>1.000000</td>\n",
       "      <td>NaN</td>\n",
       "      <td>NaN</td>\n",
       "      <td>NaN</td>\n",
       "      <td>NaN</td>\n",
       "      <td>NaN</td>\n",
       "      <td>NaN</td>\n",
       "      <td>NaN</td>\n",
       "      <td>NaN</td>\n",
       "      <td>NaN</td>\n",
       "      <td>...</td>\n",
       "      <td>NaN</td>\n",
       "      <td>NaN</td>\n",
       "      <td>NaN</td>\n",
       "      <td>NaN</td>\n",
       "      <td>NaN</td>\n",
       "      <td>NaN</td>\n",
       "      <td>NaN</td>\n",
       "      <td>NaN</td>\n",
       "      <td>NaN</td>\n",
       "      <td>NaN</td>\n",
       "    </tr>\n",
       "    <tr>\n",
       "      <th>coronaviruses</th>\n",
       "      <td>0.721654</td>\n",
       "      <td>NaN</td>\n",
       "      <td>NaN</td>\n",
       "      <td>NaN</td>\n",
       "      <td>NaN</td>\n",
       "      <td>NaN</td>\n",
       "      <td>NaN</td>\n",
       "      <td>NaN</td>\n",
       "      <td>NaN</td>\n",
       "      <td>NaN</td>\n",
       "      <td>...</td>\n",
       "      <td>NaN</td>\n",
       "      <td>NaN</td>\n",
       "      <td>NaN</td>\n",
       "      <td>NaN</td>\n",
       "      <td>NaN</td>\n",
       "      <td>NaN</td>\n",
       "      <td>NaN</td>\n",
       "      <td>NaN</td>\n",
       "      <td>NaN</td>\n",
       "      <td>NaN</td>\n",
       "    </tr>\n",
       "  </tbody>\n",
       "</table>\n",
       "<p>5 rows × 102 columns</p>\n",
       "</div>"
      ],
      "text/plain": [
       "               coronavirus  origin  response  to  weather  changes  immunity  \\\n",
       "sars-cov-2        1.000000     NaN       NaN NaN      NaN      NaN       NaN   \n",
       "sars-cov          1.000000     NaN       NaN NaN      NaN      NaN       NaN   \n",
       "covid-19          1.000000     NaN       NaN NaN      NaN      NaN       NaN   \n",
       "covid             1.000000     NaN       NaN NaN      NaN      NaN       NaN   \n",
       "coronaviruses     0.721654     NaN       NaN NaN      NaN      NaN       NaN   \n",
       "\n",
       "               how  do  people  ...  transmission  mental  health  \\\n",
       "sars-cov-2     NaN NaN     NaN  ...           NaN     NaN     NaN   \n",
       "sars-cov       NaN NaN     NaN  ...           NaN     NaN     NaN   \n",
       "covid-19       NaN NaN     NaN  ...           NaN     NaN     NaN   \n",
       "covid          NaN NaN     NaN  ...           NaN     NaN     NaN   \n",
       "coronaviruses  NaN NaN     NaN  ...           NaN     NaN     NaN   \n",
       "\n",
       "               dexamethasone  outcomes  children  school  reopening  \\\n",
       "sars-cov-2               NaN       NaN       NaN     NaN        NaN   \n",
       "sars-cov                 NaN       NaN       NaN     NaN        NaN   \n",
       "covid-19                 NaN       NaN       NaN     NaN        NaN   \n",
       "covid                    NaN       NaN       NaN     NaN        NaN   \n",
       "coronaviruses            NaN       NaN       NaN     NaN        NaN   \n",
       "\n",
       "               post-infection  mrna  \n",
       "sars-cov-2                NaN   NaN  \n",
       "sars-cov                  NaN   NaN  \n",
       "covid-19                  NaN   NaN  \n",
       "covid                     NaN   NaN  \n",
       "coronaviruses             NaN   NaN  \n",
       "\n",
       "[5 rows x 102 columns]"
      ]
     },
     "execution_count": 13,
     "metadata": {},
     "output_type": "execute_result"
    }
   ],
   "source": [
    "google_syn_dict = pd.read_json('synonym_dict_google.json') # Load synonym prepared dictionary\n",
    "\n",
    "google_syn_dict.head()"
   ]
  },
  {
   "cell_type": "code",
   "execution_count": 14,
   "metadata": {},
   "outputs": [
    {
     "data": {
      "image/png": "[encoded data removed]",
      "text/plain": [
       "<Figure size 640x480 with 1 Axes>"
      ]
     },
     "metadata": {},
     "output_type": "display_data"
    }
   ],
   "source": [
    "# Plot the similarity score discribution per word\n",
    "\n",
    "plt.figure()\n",
    "plt.title(\"Similarity distribution\")\n",
    "plt.xlabel(\"Similarity scores\")\n",
    "plt.ylabel(\"Frequency\")\n",
    "plt.xlim(0.2, 1)\n",
    "\n",
    "all_scores = []\n",
    "for col in google_syn_dict.columns:\n",
    "    all_scores.extend(google_syn_dict[col].dropna())\n",
    "\n",
    "for col in google_syn_dict:\n",
    "    data = google_syn_dict[str(col)].dropna()\n",
    "    if not data.empty:\n",
    "        plt.hist(data, bins = 10, alpha = 0.1, color = 'blue')\n",
    "        \n",
    "sns.kdeplot(all_scores, bw_adjust = 0.5, color = 'red', label='Mean frequency per similarity')\n",
    "plt.legend()\n",
    "plt.show()"
   ]
  },
  {
   "cell_type": "markdown",
   "metadata": {},
   "source": [
    "### Naive Query Expansion 0 Threshold"
   ]
  },
  {
   "cell_type": "code",
   "execution_count": 15,
   "metadata": {},
   "outputs": [],
   "source": [
    "with open('synonym_dict_google.json', mode='r', encoding='utf8') as syn_dict_file:\n",
    "    syn_dict = json.load(syn_dict_file)"
   ]
  },
  {
   "cell_type": "code",
   "execution_count": 1,
   "metadata": {},
   "outputs": [
    {
     "ename": "NameError",
     "evalue": "name 'rank_and_dump_expanded' is not defined",
     "output_type": "error",
     "traceback": [
      "\u001b[0;31m---------------------------------------------------------------------------\u001b[0m",
      "\u001b[0;31mNameError\u001b[0m                                 Traceback (most recent call last)",
      "Cell \u001b[0;32mIn[1], line 1\u001b[0m\n\u001b[0;32m----> 1\u001b[0m \u001b[43mrank_and_dump_expanded\u001b[49m(\u001b[38;5;124m'\u001b[39m\u001b[38;5;124mnormal_expanded_0_threshold\u001b[39m\u001b[38;5;124m'\u001b[39m, dataset_round5, bm25_round5, idx2docids, syn_dict)\n",
      "\u001b[0;31mNameError\u001b[0m: name 'rank_and_dump_expanded' is not defined"
     ]
    }
   ],
   "source": [
    "# Rank and save ranking scores\n",
    "rank_and_dump_expanded('normal_expanded_0_threshold', dataset_round5, bm25_round5, idx2docids, syn_dict)"
   ]
  },
  {
   "cell_type": "code",
   "execution_count": 17,
   "metadata": {},
   "outputs": [
    {
     "name": "stdout",
     "output_type": "stream",
     "text": [
      "Evaluation done!\n"
     ]
    }
   ],
   "source": [
    "# Evaluate and save scores\n",
    "eval_scores('normal_expanded_0_threshold', qrel)"
   ]
  },
  {
   "cell_type": "code",
   "execution_count": 18,
   "metadata": {},
   "outputs": [
    {
     "data": {
      "text/plain": [
       "recall_10      0.002118\n",
       "recall_20      0.005173\n",
       "ndcg_cut_10    0.060980\n",
       "ndcg_cut_20    0.064788\n",
       "infAP          0.035822\n",
       "map_cut_10     0.001214\n",
       "map_cut_20     0.002104\n",
       "ndcg           0.454821\n",
       "map            0.035822\n",
       "dtype: float64"
      ]
     },
     "execution_count": 18,
     "metadata": {},
     "output_type": "execute_result"
    }
   ],
   "source": [
    "evals = pd.read_json('normal_expanded_0_threshold_eval.json')\n",
    "evals.loc[['recall_10', 'recall_20', 'ndcg_cut_10', 'ndcg_cut_20', 'infAP', 'map_cut_10', 'map_cut_20', 'ndcg', 'map']].mean(axis=1)"
   ]
  },
  {
   "cell_type": "markdown",
   "metadata": {},
   "source": [
    "### Naive Query Expansion 0.35 Threshold"
   ]
  },
  {
   "cell_type": "code",
   "execution_count": 19,
   "metadata": {},
   "outputs": [
    {
     "name": "stdout",
     "output_type": "stream",
     "text": [
      "Ranking done!\n"
     ]
    }
   ],
   "source": [
    "# Rank and save ranking scores\n",
    "rank_and_dump_expanded('normal_expanded_35_threshold', dataset_round5, bm25_round5, idx2docids, syn_dict, threshold=0.35)"
   ]
  },
  {
   "cell_type": "code",
   "execution_count": 20,
   "metadata": {},
   "outputs": [
    {
     "name": "stdout",
     "output_type": "stream",
     "text": [
      "Evaluation done!\n"
     ]
    }
   ],
   "source": [
    "# Evaluate and save scores\n",
    "eval_scores('normal_expanded_35_threshold', qrel)"
   ]
  },
  {
   "cell_type": "code",
   "execution_count": 21,
   "metadata": {},
   "outputs": [
    {
     "data": {
      "text/plain": [
       "recall_10      0.002171\n",
       "recall_20      0.005327\n",
       "ndcg_cut_10    0.061466\n",
       "ndcg_cut_20    0.066006\n",
       "infAP          0.036077\n",
       "map_cut_10     0.001211\n",
       "map_cut_20     0.002123\n",
       "ndcg           0.455480\n",
       "map            0.036077\n",
       "dtype: float64"
      ]
     },
     "execution_count": 21,
     "metadata": {},
     "output_type": "execute_result"
    }
   ],
   "source": [
    "evals = pd.read_json('normal_expanded_35_threshold_eval.json')\n",
    "evals.loc[['recall_10', 'recall_20', 'ndcg_cut_10', 'ndcg_cut_20', 'infAP', 'map_cut_10', 'map_cut_20', 'ndcg', 'map']].mean(axis=1)"
   ]
  },
  {
   "cell_type": "markdown",
   "metadata": {},
   "source": [
    "### Naive Query Expansion 0.6 Threshold"
   ]
  },
  {
   "cell_type": "code",
   "execution_count": 22,
   "metadata": {},
   "outputs": [
    {
     "name": "stdout",
     "output_type": "stream",
     "text": [
      "Ranking done!\n"
     ]
    }
   ],
   "source": [
    "# Rank and save ranking scores\n",
    "rank_and_dump_expanded('normal_expanded_60_threshold', dataset_round5, bm25_round5, idx2docids, syn_dict, threshold=0.6)"
   ]
  },
  {
   "cell_type": "code",
   "execution_count": 23,
   "metadata": {},
   "outputs": [
    {
     "name": "stdout",
     "output_type": "stream",
     "text": [
      "Evaluation done!\n"
     ]
    }
   ],
   "source": [
    "# Evaluate and save scores\n",
    "eval_scores('normal_expanded_60_threshold', qrel)"
   ]
  },
  {
   "cell_type": "code",
   "execution_count": 24,
   "metadata": {},
   "outputs": [
    {
     "data": {
      "text/plain": [
       "recall_10      0.007930\n",
       "recall_20      0.015830\n",
       "ndcg_cut_10    0.085482\n",
       "ndcg_cut_20    0.096886\n",
       "infAP          0.058968\n",
       "map_cut_10     0.002906\n",
       "map_cut_20     0.005182\n",
       "ndcg           0.480546\n",
       "map            0.058966\n",
       "dtype: float64"
      ]
     },
     "execution_count": 24,
     "metadata": {},
     "output_type": "execute_result"
    }
   ],
   "source": [
    "evals = pd.read_json('normal_expanded_60_threshold_eval.json')\n",
    "evals.loc[['recall_10', 'recall_20', 'ndcg_cut_10', 'ndcg_cut_20', 'infAP', 'map_cut_10', 'map_cut_20', 'ndcg', 'map']].mean(axis=1)"
   ]
  },
  {
   "cell_type": "markdown",
   "metadata": {},
   "source": [
    "## Weighthed expanded query"
   ]
  },
  {
   "cell_type": "markdown",
   "metadata": {},
   "source": [
    "### 1-to-1 Weighted Expanded Query 0 threshold"
   ]
  },
  {
   "cell_type": "code",
   "execution_count": 25,
   "metadata": {},
   "outputs": [
    {
     "name": "stdout",
     "output_type": "stream",
     "text": [
      "Ranking done!\n"
     ]
    }
   ],
   "source": [
    "# Rank and save ranking scores\n",
    "rank_and_dump_expanded('weighted_1-to-1_expanded_0_threshold', dataset_round5, bm25_round5, idx2docids, syn_dict, threshold=0, mode='weighted', ratio=1)"
   ]
  },
  {
   "cell_type": "code",
   "execution_count": 26,
   "metadata": {},
   "outputs": [
    {
     "name": "stdout",
     "output_type": "stream",
     "text": [
      "Evaluation done!\n"
     ]
    }
   ],
   "source": [
    "# Evaluate and save scores\n",
    "eval_scores('weighted_1-to-1_expanded_0_threshold', qrel)"
   ]
  },
  {
   "cell_type": "code",
   "execution_count": 31,
   "metadata": {},
   "outputs": [
    {
     "data": {
      "text/plain": [
       "recall_10      0.021112\n",
       "recall_20      0.032046\n",
       "ndcg_cut_10    0.218789\n",
       "ndcg_cut_20    0.199794\n",
       "infAP          0.092303\n",
       "map_cut_10     0.009581\n",
       "map_cut_20     0.013804\n",
       "ndcg           0.537146\n",
       "map            0.092301\n",
       "dtype: float64"
      ]
     },
     "execution_count": 31,
     "metadata": {},
     "output_type": "execute_result"
    }
   ],
   "source": [
    "evals = pd.read_json('weighted_1-to-1_expanded_0_threshold_eval.json')\n",
    "evals.loc[['recall_10', 'recall_20', 'ndcg_cut_10', 'ndcg_cut_20', 'infAP', 'map_cut_10', 'map_cut_20', 'ndcg', 'map']].mean(axis=1)"
   ]
  },
  {
   "cell_type": "markdown",
   "metadata": {},
   "source": [
    "### 1-to-1 Weighted Expanded Query 0.35 threshold"
   ]
  },
  {
   "cell_type": "code",
   "execution_count": 32,
   "metadata": {},
   "outputs": [
    {
     "name": "stdout",
     "output_type": "stream",
     "text": [
      "Ranking done!\n"
     ]
    }
   ],
   "source": [
    "# Rank and save ranking scores\n",
    "rank_and_dump_expanded('weighted_1-to-1_expanded_35_threshold', dataset_round5, bm25_round5, idx2docids, syn_dict, threshold=0.35, mode='weighted', ratio=1)"
   ]
  },
  {
   "cell_type": "code",
   "execution_count": 33,
   "metadata": {},
   "outputs": [
    {
     "name": "stdout",
     "output_type": "stream",
     "text": [
      "Evaluation done!\n"
     ]
    }
   ],
   "source": [
    "# Evaluate and save scores\n",
    "eval_scores('weighted_1-to-1_expanded_35_threshold', qrel)"
   ]
  },
  {
   "cell_type": "code",
   "execution_count": 35,
   "metadata": {},
   "outputs": [
    {
     "data": {
      "text/plain": [
       "recall_10      0.021155\n",
       "recall_20      0.032231\n",
       "ndcg_cut_10    0.220016\n",
       "ndcg_cut_20    0.200999\n",
       "infAP          0.092534\n",
       "map_cut_10     0.009590\n",
       "map_cut_20     0.013864\n",
       "ndcg           0.537776\n",
       "map            0.092532\n",
       "dtype: float64"
      ]
     },
     "execution_count": 35,
     "metadata": {},
     "output_type": "execute_result"
    }
   ],
   "source": [
    "evals = pd.read_json('weighted_1-to-1_expanded_35_threshold_eval.json')\n",
    "evals.loc[['recall_10', 'recall_20', 'ndcg_cut_10', 'ndcg_cut_20', 'infAP', 'map_cut_10', 'map_cut_20', 'ndcg', 'map']].mean(axis=1)"
   ]
  },
  {
   "cell_type": "markdown",
   "metadata": {},
   "source": [
    "### 1-to-1 Weighted Expanded Query 0.6 threshold"
   ]
  },
  {
   "cell_type": "code",
   "execution_count": 36,
   "metadata": {},
   "outputs": [
    {
     "name": "stdout",
     "output_type": "stream",
     "text": [
      "Ranking done!\n"
     ]
    }
   ],
   "source": [
    "# Rank and save ranking scores\n",
    "rank_and_dump_expanded('weighted_1-to-1_expanded_60_threshold', dataset_round5, bm25_round5, idx2docids, syn_dict, threshold=0.6, mode='weighted', ratio=1)"
   ]
  },
  {
   "cell_type": "code",
   "execution_count": 37,
   "metadata": {},
   "outputs": [
    {
     "name": "stdout",
     "output_type": "stream",
     "text": [
      "Evaluation done!\n"
     ]
    }
   ],
   "source": [
    "# Evaluate and save scores\n",
    "eval_scores('weighted_1-to-1_expanded_60_threshold', qrel)"
   ]
  },
  {
   "cell_type": "code",
   "execution_count": 38,
   "metadata": {},
   "outputs": [
    {
     "data": {
      "text/plain": [
       "recall_10      0.020082\n",
       "recall_20      0.029921\n",
       "ndcg_cut_10    0.208221\n",
       "ndcg_cut_20    0.190279\n",
       "infAP          0.087873\n",
       "map_cut_10     0.008807\n",
       "map_cut_20     0.012704\n",
       "ndcg           0.523476\n",
       "map            0.087870\n",
       "dtype: float64"
      ]
     },
     "execution_count": 38,
     "metadata": {},
     "output_type": "execute_result"
    }
   ],
   "source": [
    "evals = pd.read_json('weighted_1-to-1_expanded_60_threshold_eval.json')\n",
    "evals.loc[['recall_10', 'recall_20', 'ndcg_cut_10', 'ndcg_cut_20', 'infAP', 'map_cut_10', 'map_cut_20', 'ndcg', 'map']].mean(axis=1)"
   ]
  },
  {
   "cell_type": "markdown",
   "metadata": {},
   "source": [
    "### 2-to-1 Weighted Expanded Query 0 threshold"
   ]
  },
  {
   "cell_type": "code",
   "execution_count": 39,
   "metadata": {},
   "outputs": [
    {
     "name": "stdout",
     "output_type": "stream",
     "text": [
      "Ranking done!\n"
     ]
    }
   ],
   "source": [
    "# Rank and save ranking scores\n",
    "rank_and_dump_expanded('weighted_2-to-1_expanded_0_threshold', dataset_round5, bm25_round5, idx2docids, syn_dict, threshold=0, mode='weighted', ratio=2)"
   ]
  },
  {
   "cell_type": "code",
   "execution_count": 40,
   "metadata": {},
   "outputs": [
    {
     "name": "stdout",
     "output_type": "stream",
     "text": [
      "Evaluation done!\n"
     ]
    }
   ],
   "source": [
    "# Evaluate and save scores\n",
    "eval_scores('weighted_2-to-1_expanded_0_threshold', qrel)"
   ]
  },
  {
   "cell_type": "code",
   "execution_count": 41,
   "metadata": {},
   "outputs": [
    {
     "data": {
      "text/plain": [
       "recall_10      0.021301\n",
       "recall_20      0.032399\n",
       "ndcg_cut_10    0.217991\n",
       "ndcg_cut_20    0.201024\n",
       "infAP          0.091327\n",
       "map_cut_10     0.009865\n",
       "map_cut_20     0.014071\n",
       "ndcg           0.535479\n",
       "map            0.091326\n",
       "dtype: float64"
      ]
     },
     "execution_count": 41,
     "metadata": {},
     "output_type": "execute_result"
    }
   ],
   "source": [
    "evals = pd.read_json('weighted_2-to-1_expanded_0_threshold_eval.json')\n",
    "evals.loc[['recall_10', 'recall_20', 'ndcg_cut_10', 'ndcg_cut_20', 'infAP', 'map_cut_10', 'map_cut_20', 'ndcg', 'map']].mean(axis=1)"
   ]
  },
  {
   "cell_type": "markdown",
   "metadata": {},
   "source": [
    "### 2-to-1 Weighted Expanded Query 0.35 threshold"
   ]
  },
  {
   "cell_type": "code",
   "execution_count": 42,
   "metadata": {},
   "outputs": [
    {
     "name": "stdout",
     "output_type": "stream",
     "text": [
      "Ranking done!\n"
     ]
    }
   ],
   "source": [
    "# Rank and save ranking scores\n",
    "rank_and_dump_expanded('weighted_2-to-1_expanded_35_threshold', dataset_round5, bm25_round5, idx2docids, syn_dict, threshold=0.35, mode='weighted', ratio=2)"
   ]
  },
  {
   "cell_type": "code",
   "execution_count": 43,
   "metadata": {},
   "outputs": [
    {
     "name": "stdout",
     "output_type": "stream",
     "text": [
      "Evaluation done!\n"
     ]
    }
   ],
   "source": [
    "# Evaluate and save scores\n",
    "eval_scores('weighted_2-to-1_expanded_35_threshold', qrel)"
   ]
  },
  {
   "cell_type": "code",
   "execution_count": 44,
   "metadata": {},
   "outputs": [
    {
     "data": {
      "text/plain": [
       "recall_10      0.021376\n",
       "recall_20      0.032415\n",
       "ndcg_cut_10    0.219507\n",
       "ndcg_cut_20    0.201688\n",
       "infAP          0.091588\n",
       "map_cut_10     0.009974\n",
       "map_cut_20     0.014208\n",
       "ndcg           0.535997\n",
       "map            0.091587\n",
       "dtype: float64"
      ]
     },
     "execution_count": 44,
     "metadata": {},
     "output_type": "execute_result"
    }
   ],
   "source": [
    "evals = pd.read_json('weighted_2-to-1_expanded_35_threshold_eval.json')\n",
    "evals.loc[['recall_10', 'recall_20', 'ndcg_cut_10', 'ndcg_cut_20', 'infAP', 'map_cut_10', 'map_cut_20', 'ndcg', 'map']].mean(axis=1)"
   ]
  },
  {
   "cell_type": "markdown",
   "metadata": {},
   "source": [
    "### 2-to-1 Weighted Expanded Query 0.6 threshold"
   ]
  },
  {
   "cell_type": "code",
   "execution_count": 45,
   "metadata": {},
   "outputs": [
    {
     "name": "stdout",
     "output_type": "stream",
     "text": [
      "Ranking done!\n"
     ]
    }
   ],
   "source": [
    "# Rank and save ranking scores\n",
    "rank_and_dump_expanded('weighted_2-to-1_expanded_60_threshold', dataset_round5, bm25_round5, idx2docids, syn_dict, threshold=0.6, mode='weighted', ratio=2)"
   ]
  },
  {
   "cell_type": "code",
   "execution_count": 46,
   "metadata": {},
   "outputs": [
    {
     "name": "stdout",
     "output_type": "stream",
     "text": [
      "Evaluation done!\n"
     ]
    }
   ],
   "source": [
    "# Evaluate and save scores\n",
    "eval_scores('weighted_2-to-1_expanded_60_threshold', qrel)"
   ]
  },
  {
   "cell_type": "code",
   "execution_count": 47,
   "metadata": {},
   "outputs": [
    {
     "data": {
      "text/plain": [
       "recall_10      0.020272\n",
       "recall_20      0.030473\n",
       "ndcg_cut_10    0.213059\n",
       "ndcg_cut_20    0.192323\n",
       "infAP          0.085552\n",
       "map_cut_10     0.009144\n",
       "map_cut_20     0.013255\n",
       "ndcg           0.518351\n",
       "map            0.085549\n",
       "dtype: float64"
      ]
     },
     "execution_count": 47,
     "metadata": {},
     "output_type": "execute_result"
    }
   ],
   "source": [
    "evals = pd.read_json('weighted_2-to-1_expanded_60_threshold_eval.json')\n",
    "evals.loc[['recall_10', 'recall_20', 'ndcg_cut_10', 'ndcg_cut_20', 'infAP', 'map_cut_10', 'map_cut_20', 'ndcg', 'map']].mean(axis=1)"
   ]
  },
  {
   "cell_type": "markdown",
   "metadata": {},
   "source": [
    "### 3-to-1 Weighted Expanded Query 0 threshold"
   ]
  },
  {
   "cell_type": "code",
   "execution_count": 48,
   "metadata": {},
   "outputs": [
    {
     "name": "stdout",
     "output_type": "stream",
     "text": [
      "Ranking done!\n"
     ]
    }
   ],
   "source": [
    "# Rank and save ranking scores\n",
    "rank_and_dump_expanded('weighted_3-to-1_expanded_0_threshold', dataset_round5, bm25_round5, idx2docids, syn_dict, threshold=0, mode='weighted', ratio=3)"
   ]
  },
  {
   "cell_type": "code",
   "execution_count": 49,
   "metadata": {},
   "outputs": [
    {
     "name": "stdout",
     "output_type": "stream",
     "text": [
      "Evaluation done!\n"
     ]
    }
   ],
   "source": [
    "# Evaluate and save scores\n",
    "eval_scores('weighted_3-to-1_expanded_0_threshold', qrel)"
   ]
  },
  {
   "cell_type": "code",
   "execution_count": 50,
   "metadata": {},
   "outputs": [
    {
     "data": {
      "text/plain": [
       "recall_10      0.023314\n",
       "recall_20      0.032513\n",
       "ndcg_cut_10    0.215131\n",
       "ndcg_cut_20    0.201481\n",
       "infAP          0.090938\n",
       "map_cut_10     0.010973\n",
       "map_cut_20     0.014351\n",
       "ndcg           0.534281\n",
       "map            0.090937\n",
       "dtype: float64"
      ]
     },
     "execution_count": 50,
     "metadata": {},
     "output_type": "execute_result"
    }
   ],
   "source": [
    "evals = pd.read_json('weighted_3-to-1_expanded_0_threshold_eval.json')\n",
    "evals.loc[['recall_10', 'recall_20', 'ndcg_cut_10', 'ndcg_cut_20', 'infAP', 'map_cut_10', 'map_cut_20', 'ndcg', 'map']].mean(axis=1)"
   ]
  },
  {
   "cell_type": "markdown",
   "metadata": {},
   "source": [
    "### 3-to-1 Weighted Expanded Query 0.35 threshold"
   ]
  },
  {
   "cell_type": "code",
   "execution_count": 51,
   "metadata": {},
   "outputs": [
    {
     "name": "stdout",
     "output_type": "stream",
     "text": [
      "Ranking done!\n"
     ]
    }
   ],
   "source": [
    "# Rank and save ranking scores\n",
    "rank_and_dump_expanded('weighted_3-to-1_expanded_35_threshold', dataset_round5, bm25_round5, idx2docids, syn_dict, threshold=0.35, mode='weighted', ratio=3)"
   ]
  },
  {
   "cell_type": "code",
   "execution_count": 52,
   "metadata": {},
   "outputs": [
    {
     "name": "stdout",
     "output_type": "stream",
     "text": [
      "Evaluation done!\n"
     ]
    }
   ],
   "source": [
    "# Evaluate and save scores\n",
    "eval_scores('weighted_3-to-1_expanded_35_threshold', qrel)"
   ]
  },
  {
   "cell_type": "code",
   "execution_count": 53,
   "metadata": {},
   "outputs": [
    {
     "data": {
      "text/plain": [
       "recall_10      0.023451\n",
       "recall_20      0.032403\n",
       "ndcg_cut_10    0.216556\n",
       "ndcg_cut_20    0.200837\n",
       "infAP          0.091137\n",
       "map_cut_10     0.011031\n",
       "map_cut_20     0.014398\n",
       "ndcg           0.534729\n",
       "map            0.091136\n",
       "dtype: float64"
      ]
     },
     "execution_count": 53,
     "metadata": {},
     "output_type": "execute_result"
    }
   ],
   "source": [
    "evals = pd.read_json('weighted_3-to-1_expanded_35_threshold_eval.json')\n",
    "evals.loc[['recall_10', 'recall_20', 'ndcg_cut_10', 'ndcg_cut_20', 'infAP', 'map_cut_10', 'map_cut_20', 'ndcg', 'map']].mean(axis=1)"
   ]
  },
  {
   "cell_type": "markdown",
   "metadata": {},
   "source": [
    "### 3-to-1 Weighted Expanded Query 0.6 threshold"
   ]
  },
  {
   "cell_type": "code",
   "execution_count": 54,
   "metadata": {},
   "outputs": [
    {
     "name": "stdout",
     "output_type": "stream",
     "text": [
      "Ranking done!\n"
     ]
    }
   ],
   "source": [
    "# Rank and save ranking scores\n",
    "rank_and_dump_expanded('weighted_3-to-1_expanded_60_threshold', dataset_round5, bm25_round5, idx2docids, syn_dict, threshold=0.6, mode='weighted', ratio=3)"
   ]
  },
  {
   "cell_type": "code",
   "execution_count": 55,
   "metadata": {},
   "outputs": [
    {
     "name": "stdout",
     "output_type": "stream",
     "text": [
      "Evaluation done!\n"
     ]
    }
   ],
   "source": [
    "# Evaluate and save scores\n",
    "eval_scores('weighted_3-to-1_expanded_60_threshold', qrel)"
   ]
  },
  {
   "cell_type": "code",
   "execution_count": 56,
   "metadata": {},
   "outputs": [
    {
     "data": {
      "text/plain": [
       "recall_10      0.020243\n",
       "recall_20      0.030493\n",
       "ndcg_cut_10    0.211183\n",
       "ndcg_cut_20    0.189954\n",
       "infAP          0.083552\n",
       "map_cut_10     0.008779\n",
       "map_cut_20     0.012797\n",
       "ndcg           0.514246\n",
       "map            0.083550\n",
       "dtype: float64"
      ]
     },
     "execution_count": 56,
     "metadata": {},
     "output_type": "execute_result"
    }
   ],
   "source": [
    "evals = pd.read_json('weighted_3-to-1_expanded_60_threshold_eval.json')\n",
    "evals.loc[['recall_10', 'recall_20', 'ndcg_cut_10', 'ndcg_cut_20', 'infAP', 'map_cut_10', 'map_cut_20', 'ndcg', 'map']].mean(axis=1)"
   ]
  },
  {
   "cell_type": "markdown",
   "metadata": {},
   "source": [
    "## Formatting the results of all experiments"
   ]
  },
  {
   "cell_type": "code",
   "execution_count": 64,
   "metadata": {},
   "outputs": [
    {
     "data": {
      "text/plain": [
       "<Figure size 1200x600 with 0 Axes>"
      ]
     },
     "metadata": {},
     "output_type": "display_data"
    },
    {
     "data": {
      "image/png": "[encoded data removed]",
      "text/plain": [
       "<Figure size 640x480 with 1 Axes>"
      ]
     },
     "metadata": {},
     "output_type": "display_data"
    },
    {
     "data": {
      "text/plain": [
       "<Figure size 1200x600 with 0 Axes>"
      ]
     },
     "metadata": {},
     "output_type": "display_data"
    },
    {
     "data": {
      "image/png": "[encoded data removed]",
      "text/plain": [
       "<Figure size 640x480 with 1 Axes>"
      ]
     },
     "metadata": {},
     "output_type": "display_data"
    },
    {
     "data": {
      "text/plain": [
       "<Figure size 1200x600 with 0 Axes>"
      ]
     },
     "metadata": {},
     "output_type": "display_data"
    },
    {
     "data": {
      "image/png": "[encoded data removed]",
      "text/plain": [
       "<Figure size 640x480 with 1 Axes>"
      ]
     },
     "metadata": {},
     "output_type": "display_data"
    },
    {
     "data": {
      "text/plain": [
       "<Figure size 1200x600 with 0 Axes>"
      ]
     },
     "metadata": {},
     "output_type": "display_data"
    },
    {
     "data": {
      "image/png": "[encoded data removed]",
      "text/plain": [
       "<Figure size 640x480 with 1 Axes>"
      ]
     },
     "metadata": {},
     "output_type": "display_data"
    },
    {
     "data": {
      "text/plain": [
       "<Figure size 1200x600 with 0 Axes>"
      ]
     },
     "metadata": {},
     "output_type": "display_data"
    },
    {
     "data": {
      "image/png": "[encoded data removed]",
      "text/plain": [
       "<Figure size 640x480 with 1 Axes>"
      ]
     },
     "metadata": {},
     "output_type": "display_data"
    },
    {
     "data": {
      "text/plain": [
       "<Figure size 1200x600 with 0 Axes>"
      ]
     },
     "metadata": {},
     "output_type": "display_data"
    },
    {
     "data": {
      "image/png": "[encoded data removed]",
      "text/plain": [
       "<Figure size 640x480 with 1 Axes>"
      ]
     },
     "metadata": {},
     "output_type": "display_data"
    },
    {
     "data": {
      "text/plain": [
       "<Figure size 1200x600 with 0 Axes>"
      ]
     },
     "metadata": {},
     "output_type": "display_data"
    },
    {
     "data": {
      "image/png": "[encoded data removed]",
      "text/plain": [
       "<Figure size 640x480 with 1 Axes>"
      ]
     },
     "metadata": {},
     "output_type": "display_data"
    },
    {
     "data": {
      "text/plain": [
       "<Figure size 1200x600 with 0 Axes>"
      ]
     },
     "metadata": {},
     "output_type": "display_data"
    },
    {
     "data": {
      "image/png": "[encoded data removed]",
      "text/plain": [
       "<Figure size 640x480 with 1 Axes>"
      ]
     },
     "metadata": {},
     "output_type": "display_data"
    },
    {
     "data": {
      "text/plain": [
       "<Figure size 1200x600 with 0 Axes>"
      ]
     },
     "metadata": {},
     "output_type": "display_data"
    },
    {
     "data": {
      "image/png": "[encoded data removed]",
      "text/plain": [
       "<Figure size 640x480 with 1 Axes>"
      ]
     },
     "metadata": {},
     "output_type": "display_data"
    }
   ],
   "source": [
    "# Creating figures for the scores\n",
    "\n",
    "# metrics and results of bm25 baseline\n",
    "evals_bm25 = {\n",
    "    'recall_10': 0.026302,\n",
    "    'recall_20': 0.036381,\n",
    "    'ndcg_cut_10': 0.272039,\n",
    "    'ndcg_cut_20': 0.244637,\n",
    "    'ndcg': 0.560995,\n",
    "    'map': 0.114180,\n",
    "    'map_cut_10': 0.012690,\n",
    "    'map_cut_20': 0.016425,\n",
    "    'infAP': 0.114182\n",
    "}\n",
    "\n",
    "# Results of the rest of the experiments\n",
    "data = {\n",
    "    'Strategy': ['Baseline BM25', '1-to-1-0', '1-to-1-0.35', '1-to-1-0.6', '2-to-1-0', '2-to-1-0.35', '2-to-1-0.6', '3-to-1-0', '3-to-1-0.35', '3-to-1-0.6'],\n",
    "    'recall_10': [evals_bm25['recall_10'], 0.021112, 0.021155, 0.020082, 0.021301, 0.021376, 0.020272, 0.023314, 0.023451, 0.020243],\n",
    "    'recall_20': [evals_bm25['recall_20'], 0.032046, 0.032231, 0.029921, 0.032399, 0.032415, 0.030473, 0.032513, 0.032403, 0.030493],\n",
    "    'ndcg_cut_10': [evals_bm25['ndcg_cut_10'], 0.218789, 0.220016, 0.208221, 0.217991, 0.219507, 0.213059,  0.215131, 0.216556, 0.211183],\n",
    "    'ndcg_cut_20': [evals_bm25['ndcg_cut_20'], 0.199794, 0.200999, 0.190279, 0.201024, 0.201688, 0.192323, 0.201481, 0.200837, 0.189954],\n",
    "    'ndcg': [evals_bm25['ndcg'], 0.537146, 0.537776, 0.523476, 0.535479, 0.535997, 0.518351, 0.534281, 0.534729, 0.514246],\n",
    "    'map_cut_10': [evals_bm25['map_cut_10'], 0.009581, 0.009590, 0.008807, 0.009865, 0.009974, 0.009144, 0.010973, 0.011031, 0.008779],\n",
    "    'map_cut_20': [evals_bm25['map_cut_20'], 0.013804, 0.013864, 0.012704, 0.014071, 0.014208, 0.013255, 0.014351, 0.014398, 0.012797],\n",
    "    'map': [evals_bm25['map'], 0.092301, 0.092532, 0.087870, 0.091326, 0.091587, 0.085549, 0.090937, 0.091136, 0.083550],\n",
    "    'infAP': [evals_bm25['infAP'], 0.092303, 0.092534, 0.087873, 0.091327, 0.091588, 0.085552, 0.090938, 0.091137, 0.083552]\n",
    "}\n",
    " \n",
    "df = pd.DataFrame(data)\n",
    "\n",
    "metrics = ['recall_10', 'recall_20', 'ndcg_cut_10', 'ndcg_cut_20', 'ndcg', 'map', 'map_cut_10','map_cut_20','infAP']\n",
    "\n",
    "for metric in metrics:\n",
    "    plt.figure(figsize=(12, 6))\n",
    "    df.plot(x='Strategy', y=metric, kind='bar', legend=False)\n",
    "    plt.title(f'Comparison of {metric.upper()} Across Strategies (Including Baseline BM25)')\n",
    "    plt.ylabel(metric.upper())\n",
    "    plt.xlabel('Strategy and Threshold')\n",
    "    plt.xticks(rotation=45)\n",
    "    plt.show()\n"
   ]
  },
  {
   "cell_type": "code",
   "execution_count": 4,
   "metadata": {},
   "outputs": [
    {
     "data": {
      "text/plain": [
       "['baseline_bm25_scores_eval.json',\n",
       " 'weighted_3-to-1_expanded_0_threshold_eval.json',\n",
       " 'normal_expanded_60_threshold_eval.json',\n",
       " 'weighted_1-to-1_expanded_35_threshold_eval.json',\n",
       " 'weighted_1-to-1_expanded_0_threshold_eval.json',\n",
       " 'weighted_2-to-1_expanded_60_threshold_eval.json',\n",
       " 'weighted_3-to-1_expanded_35_threshold_eval.json',\n",
       " 'weighted_3-to-1_expanded_60_threshold_eval.json',\n",
       " 'weighted_2-to-1_expanded_35_threshold_eval.json',\n",
       " 'normal_expanded_0_threshold_eval.json',\n",
       " 'normal_expanded_35_threshold_eval.json',\n",
       " 'weighted_2-to-1_expanded_0_threshold_eval.json',\n",
       " 'weighted_1-to-1_expanded_60_threshold_eval.json']"
      ]
     },
     "execution_count": 4,
     "metadata": {},
     "output_type": "execute_result"
    }
   ],
   "source": [
    "# Find evaluation files\n",
    "\n",
    "from glob import glob\n",
    "\n",
    "file_names = glob('*_eval.json')\n",
    "\n",
    "file_names"
   ]
  },
  {
   "cell_type": "code",
   "execution_count": 16,
   "metadata": {},
   "outputs": [
    {
     "data": {
      "text/html": [
       "<div>\n",
       "<style scoped>\n",
       "    .dataframe tbody tr th:only-of-type {\n",
       "        vertical-align: middle;\n",
       "    }\n",
       "\n",
       "    .dataframe tbody tr th {\n",
       "        vertical-align: top;\n",
       "    }\n",
       "\n",
       "    .dataframe thead th {\n",
       "        text-align: right;\n",
       "    }\n",
       "</style>\n",
       "<table border=\"1\" class=\"dataframe\">\n",
       "  <thead>\n",
       "    <tr style=\"text-align: right;\">\n",
       "      <th></th>\n",
       "      <th>recall@10</th>\n",
       "      <th>recall@20</th>\n",
       "      <th>ndcg@10</th>\n",
       "      <th>ndcg@20</th>\n",
       "      <th>MAP</th>\n",
       "      <th>precision@10</th>\n",
       "      <th>precion@20</th>\n",
       "    </tr>\n",
       "  </thead>\n",
       "  <tbody>\n",
       "    <tr>\n",
       "      <th>baseline_bm25_scor</th>\n",
       "      <td>0.026302</td>\n",
       "      <td>0.036381</td>\n",
       "      <td>0.272039</td>\n",
       "      <td>0.244637</td>\n",
       "      <td>0.114180</td>\n",
       "      <td>0.012690</td>\n",
       "      <td>0.016425</td>\n",
       "    </tr>\n",
       "    <tr>\n",
       "      <th>weighted_3-to-1_expanded_0_threshold</th>\n",
       "      <td>0.023314</td>\n",
       "      <td>0.032513</td>\n",
       "      <td>0.215131</td>\n",
       "      <td>0.201481</td>\n",
       "      <td>0.090937</td>\n",
       "      <td>0.010973</td>\n",
       "      <td>0.014351</td>\n",
       "    </tr>\n",
       "    <tr>\n",
       "      <th>rmal_expanded_60_threshold</th>\n",
       "      <td>0.007930</td>\n",
       "      <td>0.015830</td>\n",
       "      <td>0.085482</td>\n",
       "      <td>0.096886</td>\n",
       "      <td>0.058966</td>\n",
       "      <td>0.002906</td>\n",
       "      <td>0.005182</td>\n",
       "    </tr>\n",
       "    <tr>\n",
       "      <th>weighted_1-to-1_expanded_35_threshold</th>\n",
       "      <td>0.021155</td>\n",
       "      <td>0.032231</td>\n",
       "      <td>0.220016</td>\n",
       "      <td>0.200999</td>\n",
       "      <td>0.092532</td>\n",
       "      <td>0.009590</td>\n",
       "      <td>0.013864</td>\n",
       "    </tr>\n",
       "    <tr>\n",
       "      <th>weighted_1-to-1_expanded_0_threshold</th>\n",
       "      <td>0.021112</td>\n",
       "      <td>0.032046</td>\n",
       "      <td>0.218789</td>\n",
       "      <td>0.199794</td>\n",
       "      <td>0.092301</td>\n",
       "      <td>0.009581</td>\n",
       "      <td>0.013804</td>\n",
       "    </tr>\n",
       "    <tr>\n",
       "      <th>weighted_2-to-1_expanded_60_threshold</th>\n",
       "      <td>0.020272</td>\n",
       "      <td>0.030473</td>\n",
       "      <td>0.213059</td>\n",
       "      <td>0.192323</td>\n",
       "      <td>0.085549</td>\n",
       "      <td>0.009144</td>\n",
       "      <td>0.013255</td>\n",
       "    </tr>\n",
       "    <tr>\n",
       "      <th>weighted_3-to-1_expanded_35_threshold</th>\n",
       "      <td>0.023451</td>\n",
       "      <td>0.032403</td>\n",
       "      <td>0.216556</td>\n",
       "      <td>0.200837</td>\n",
       "      <td>0.091136</td>\n",
       "      <td>0.011031</td>\n",
       "      <td>0.014398</td>\n",
       "    </tr>\n",
       "    <tr>\n",
       "      <th>weighted_3-to-1_expanded_60_threshold</th>\n",
       "      <td>0.020243</td>\n",
       "      <td>0.030493</td>\n",
       "      <td>0.211183</td>\n",
       "      <td>0.189954</td>\n",
       "      <td>0.083550</td>\n",
       "      <td>0.008779</td>\n",
       "      <td>0.012797</td>\n",
       "    </tr>\n",
       "    <tr>\n",
       "      <th>weighted_2-to-1_expanded_35_threshold</th>\n",
       "      <td>0.021376</td>\n",
       "      <td>0.032415</td>\n",
       "      <td>0.219507</td>\n",
       "      <td>0.201688</td>\n",
       "      <td>0.091587</td>\n",
       "      <td>0.009974</td>\n",
       "      <td>0.014208</td>\n",
       "    </tr>\n",
       "    <tr>\n",
       "      <th>rmal_expanded_0_threshold</th>\n",
       "      <td>0.002118</td>\n",
       "      <td>0.005173</td>\n",
       "      <td>0.060980</td>\n",
       "      <td>0.064788</td>\n",
       "      <td>0.035822</td>\n",
       "      <td>0.001214</td>\n",
       "      <td>0.002104</td>\n",
       "    </tr>\n",
       "    <tr>\n",
       "      <th>rmal_expanded_35_threshold</th>\n",
       "      <td>0.002171</td>\n",
       "      <td>0.005327</td>\n",
       "      <td>0.061466</td>\n",
       "      <td>0.066006</td>\n",
       "      <td>0.036077</td>\n",
       "      <td>0.001211</td>\n",
       "      <td>0.002123</td>\n",
       "    </tr>\n",
       "    <tr>\n",
       "      <th>weighted_2-to-1_expanded_0_threshold</th>\n",
       "      <td>0.021301</td>\n",
       "      <td>0.032399</td>\n",
       "      <td>0.217991</td>\n",
       "      <td>0.201024</td>\n",
       "      <td>0.091326</td>\n",
       "      <td>0.009865</td>\n",
       "      <td>0.014071</td>\n",
       "    </tr>\n",
       "    <tr>\n",
       "      <th>weighted_1-to-1_expanded_60_threshold</th>\n",
       "      <td>0.020082</td>\n",
       "      <td>0.029921</td>\n",
       "      <td>0.208221</td>\n",
       "      <td>0.190279</td>\n",
       "      <td>0.087870</td>\n",
       "      <td>0.008807</td>\n",
       "      <td>0.012704</td>\n",
       "    </tr>\n",
       "  </tbody>\n",
       "</table>\n",
       "</div>"
      ],
      "text/plain": [
       "                                       recall@10  recall@20   ndcg@10  \\\n",
       "baseline_bm25_scor                      0.026302   0.036381  0.272039   \n",
       "weighted_3-to-1_expanded_0_threshold    0.023314   0.032513  0.215131   \n",
       "rmal_expanded_60_threshold              0.007930   0.015830  0.085482   \n",
       "weighted_1-to-1_expanded_35_threshold   0.021155   0.032231  0.220016   \n",
       "weighted_1-to-1_expanded_0_threshold    0.021112   0.032046  0.218789   \n",
       "weighted_2-to-1_expanded_60_threshold   0.020272   0.030473  0.213059   \n",
       "weighted_3-to-1_expanded_35_threshold   0.023451   0.032403  0.216556   \n",
       "weighted_3-to-1_expanded_60_threshold   0.020243   0.030493  0.211183   \n",
       "weighted_2-to-1_expanded_35_threshold   0.021376   0.032415  0.219507   \n",
       "rmal_expanded_0_threshold               0.002118   0.005173  0.060980   \n",
       "rmal_expanded_35_threshold              0.002171   0.005327  0.061466   \n",
       "weighted_2-to-1_expanded_0_threshold    0.021301   0.032399  0.217991   \n",
       "weighted_1-to-1_expanded_60_threshold   0.020082   0.029921  0.208221   \n",
       "\n",
       "                                        ndcg@20       MAP  precision@10  \\\n",
       "baseline_bm25_scor                     0.244637  0.114180      0.012690   \n",
       "weighted_3-to-1_expanded_0_threshold   0.201481  0.090937      0.010973   \n",
       "rmal_expanded_60_threshold             0.096886  0.058966      0.002906   \n",
       "weighted_1-to-1_expanded_35_threshold  0.200999  0.092532      0.009590   \n",
       "weighted_1-to-1_expanded_0_threshold   0.199794  0.092301      0.009581   \n",
       "weighted_2-to-1_expanded_60_threshold  0.192323  0.085549      0.009144   \n",
       "weighted_3-to-1_expanded_35_threshold  0.200837  0.091136      0.011031   \n",
       "weighted_3-to-1_expanded_60_threshold  0.189954  0.083550      0.008779   \n",
       "weighted_2-to-1_expanded_35_threshold  0.201688  0.091587      0.009974   \n",
       "rmal_expanded_0_threshold              0.064788  0.035822      0.001214   \n",
       "rmal_expanded_35_threshold             0.066006  0.036077      0.001211   \n",
       "weighted_2-to-1_expanded_0_threshold   0.201024  0.091326      0.009865   \n",
       "weighted_1-to-1_expanded_60_threshold  0.190279  0.087870      0.008807   \n",
       "\n",
       "                                       precion@20  \n",
       "baseline_bm25_scor                       0.016425  \n",
       "weighted_3-to-1_expanded_0_threshold     0.014351  \n",
       "rmal_expanded_60_threshold               0.005182  \n",
       "weighted_1-to-1_expanded_35_threshold    0.013864  \n",
       "weighted_1-to-1_expanded_0_threshold     0.013804  \n",
       "weighted_2-to-1_expanded_60_threshold    0.013255  \n",
       "weighted_3-to-1_expanded_35_threshold    0.014398  \n",
       "weighted_3-to-1_expanded_60_threshold    0.012797  \n",
       "weighted_2-to-1_expanded_35_threshold    0.014208  \n",
       "rmal_expanded_0_threshold                0.002104  \n",
       "rmal_expanded_35_threshold               0.002123  \n",
       "weighted_2-to-1_expanded_0_threshold     0.014071  \n",
       "weighted_1-to-1_expanded_60_threshold    0.012704  "
      ]
     },
     "execution_count": 16,
     "metadata": {},
     "output_type": "execute_result"
    }
   ],
   "source": [
    "import pandas as pd\n",
    "\n",
    "# Create table of evaluation\n",
    "\n",
    "eval_table = pd.DataFrame([])\n",
    "\n",
    "metrics = ['recall_10', 'recall_20', 'ndcg_cut_10', 'ndcg_cut_20', 'map', 'map_cut_10','map_cut_20']\n",
    "index = ['recall@10', 'recall@20', 'ndcg@10', 'ndcg@20', 'MAP', 'precision@10','precion@20']\n",
    "\n",
    "headers = [fn.strip('_eval.json') for fn in file_names]\n",
    "\n",
    "for fn in file_names:\n",
    "    eval_table = pd.concat([eval_table, pd.read_json(fn).mean(axis=1).loc[metrics]], axis=1)\n",
    "    \n",
    "eval_table.columns = headers\n",
    "eval_table.index = index\n",
    "\n",
    "eval_table.transpose()"
   ]
  },
  {
   "cell_type": "code",
   "execution_count": 20,
   "metadata": {},
   "outputs": [
    {
     "name": "stdout",
     "output_type": "stream",
     "text": [
      "Number of documents: 192509\n",
      "Number of queries: 50\n"
     ]
    }
   ],
   "source": [
    "# Count the number of documents\n",
    "num_documents = sum(1 for _ in dataset_round5.docs_iter())\n",
    "\n",
    "# Count the number of queries\n",
    "num_queries = sum(1 for _ in dataset_round5.queries_iter())\n",
    "\n",
    "print(f\"Number of documents: {num_documents}\")\n",
    "print(f\"Number of queries: {num_queries}\")"
   ]
  },
  {
   "cell_type": "code",
   "execution_count": 5,
   "metadata": {},
   "outputs": [],
   "source": [
    "# Create another table of evaluation\n",
    "eval_table = pd.DataFrame([])\n",
    "\n",
    "metrics = ['recall_10', 'recall_20', 'ndcg_cut_10', 'ndcg_cut_20', 'map_cut_10','map_cut_20', 'map']\n",
    "index= ['recall@10', 'recall@20', 'ndcg@10', 'ndcg@20', 'precision@10','precison@20', 'MAP']\n",
    "\n",
    "\n",
    "headers = [fn.replace('_eval.json', '') for fn in file_names]\n",
    "\n",
    "for fn, head in zip(file_names, headers):\n",
    "\n",
    "    strat_table = pd.DataFrame([])\n",
    "\n",
    "    for metric, id in zip(metrics, index):\n",
    "        sub_table = [pd.read_json(fn).mean(axis=1).loc[metric], \n",
    "                               pd.read_json(fn).std(axis=1).map(lambda x: 1.96*x).loc[metric]]\n",
    "        sub_table = pd.DataFrame(sub_table, index=[id, f'{id}+/-95%conf.int.'], columns=[head])\n",
    "        strat_table = pd.concat([strat_table, sub_table], axis=0)\n",
    "    \n",
    "    eval_table = pd.concat([eval_table, strat_table], axis=1)\n",
    "    \n",
    "\n",
    "eval_table.to_html('eval_table.html')\n",
    "\n",
    "eval_table.to_latex('eval_table.tex')"
   ]
  },
  {
   "cell_type": "code",
   "execution_count": 10,
   "metadata": {},
   "outputs": [
    {
     "data": {
      "text/html": [
       "<div>\n",
       "<style scoped>\n",
       "    .dataframe tbody tr th:only-of-type {\n",
       "        vertical-align: middle;\n",
       "    }\n",
       "\n",
       "    .dataframe tbody tr th {\n",
       "        vertical-align: top;\n",
       "    }\n",
       "\n",
       "    .dataframe thead th {\n",
       "        text-align: right;\n",
       "    }\n",
       "</style>\n",
       "<table border=\"1\" class=\"dataframe\">\n",
       "  <thead>\n",
       "    <tr style=\"text-align: right;\">\n",
       "      <th></th>\n",
       "      <th>baseline_bm25_scores</th>\n",
       "      <th>normal_expanded_0_threshold</th>\n",
       "      <th>normal_expanded_35_threshold</th>\n",
       "      <th>normal_expanded_60_threshold</th>\n",
       "      <th>weighted_1-to-1_expanded_0_threshold</th>\n",
       "      <th>weighted_1-to-1_expanded_35_threshold</th>\n",
       "      <th>weighted_1-to-1_expanded_60_threshold</th>\n",
       "      <th>weighted_2-to-1_expanded_0_threshold</th>\n",
       "      <th>weighted_2-to-1_expanded_35_threshold</th>\n",
       "      <th>weighted_2-to-1_expanded_60_threshold</th>\n",
       "      <th>weighted_3-to-1_expanded_0_threshold</th>\n",
       "      <th>weighted_3-to-1_expanded_35_threshold</th>\n",
       "      <th>weighted_3-to-1_expanded_60_threshold</th>\n",
       "    </tr>\n",
       "  </thead>\n",
       "  <tbody>\n",
       "    <tr>\n",
       "      <th>recall@10</th>\n",
       "      <td>0.026302</td>\n",
       "      <td>0.002118</td>\n",
       "      <td>0.002171</td>\n",
       "      <td>0.007930</td>\n",
       "      <td>0.021112</td>\n",
       "      <td>0.021155</td>\n",
       "      <td>0.020082</td>\n",
       "      <td>0.021301</td>\n",
       "      <td>0.021376</td>\n",
       "      <td>0.020272</td>\n",
       "      <td>0.023314</td>\n",
       "      <td>0.023451</td>\n",
       "      <td>0.020243</td>\n",
       "    </tr>\n",
       "    <tr>\n",
       "      <th>recall@10+/-95%conf.int.</th>\n",
       "      <td>0.152034</td>\n",
       "      <td>0.009388</td>\n",
       "      <td>0.009371</td>\n",
       "      <td>0.062109</td>\n",
       "      <td>0.122272</td>\n",
       "      <td>0.122251</td>\n",
       "      <td>0.122238</td>\n",
       "      <td>0.122203</td>\n",
       "      <td>0.122165</td>\n",
       "      <td>0.122199</td>\n",
       "      <td>0.152608</td>\n",
       "      <td>0.152550</td>\n",
       "      <td>0.122039</td>\n",
       "    </tr>\n",
       "    <tr>\n",
       "      <th>recall@20</th>\n",
       "      <td>0.036381</td>\n",
       "      <td>0.005173</td>\n",
       "      <td>0.005327</td>\n",
       "      <td>0.015830</td>\n",
       "      <td>0.032046</td>\n",
       "      <td>0.032231</td>\n",
       "      <td>0.029921</td>\n",
       "      <td>0.032399</td>\n",
       "      <td>0.032415</td>\n",
       "      <td>0.030473</td>\n",
       "      <td>0.032513</td>\n",
       "      <td>0.032403</td>\n",
       "      <td>0.030493</td>\n",
       "    </tr>\n",
       "    <tr>\n",
       "      <th>recall@20+/-95%conf.int.</th>\n",
       "      <td>0.151037</td>\n",
       "      <td>0.019197</td>\n",
       "      <td>0.019198</td>\n",
       "      <td>0.094464</td>\n",
       "      <td>0.153179</td>\n",
       "      <td>0.153099</td>\n",
       "      <td>0.153717</td>\n",
       "      <td>0.152678</td>\n",
       "      <td>0.152737</td>\n",
       "      <td>0.153434</td>\n",
       "      <td>0.152746</td>\n",
       "      <td>0.152783</td>\n",
       "      <td>0.152660</td>\n",
       "    </tr>\n",
       "    <tr>\n",
       "      <th>ndcg@10</th>\n",
       "      <td>0.272039</td>\n",
       "      <td>0.060980</td>\n",
       "      <td>0.061466</td>\n",
       "      <td>0.085482</td>\n",
       "      <td>0.218789</td>\n",
       "      <td>0.220016</td>\n",
       "      <td>0.208221</td>\n",
       "      <td>0.217991</td>\n",
       "      <td>0.219507</td>\n",
       "      <td>0.213059</td>\n",
       "      <td>0.215131</td>\n",
       "      <td>0.216556</td>\n",
       "      <td>0.211183</td>\n",
       "    </tr>\n",
       "    <tr>\n",
       "      <th>ndcg@10+/-95%conf.int.</th>\n",
       "      <td>0.474178</td>\n",
       "      <td>0.338321</td>\n",
       "      <td>0.337685</td>\n",
       "      <td>0.345239</td>\n",
       "      <td>0.419585</td>\n",
       "      <td>0.418374</td>\n",
       "      <td>0.412348</td>\n",
       "      <td>0.415517</td>\n",
       "      <td>0.418371</td>\n",
       "      <td>0.426942</td>\n",
       "      <td>0.427835</td>\n",
       "      <td>0.426767</td>\n",
       "      <td>0.436072</td>\n",
       "    </tr>\n",
       "    <tr>\n",
       "      <th>ndcg@20</th>\n",
       "      <td>0.244637</td>\n",
       "      <td>0.064788</td>\n",
       "      <td>0.066006</td>\n",
       "      <td>0.096886</td>\n",
       "      <td>0.199794</td>\n",
       "      <td>0.200999</td>\n",
       "      <td>0.190279</td>\n",
       "      <td>0.201024</td>\n",
       "      <td>0.201688</td>\n",
       "      <td>0.192323</td>\n",
       "      <td>0.201481</td>\n",
       "      <td>0.200837</td>\n",
       "      <td>0.189954</td>\n",
       "    </tr>\n",
       "    <tr>\n",
       "      <th>ndcg@20+/-95%conf.int.</th>\n",
       "      <td>0.397546</td>\n",
       "      <td>0.316419</td>\n",
       "      <td>0.316128</td>\n",
       "      <td>0.337481</td>\n",
       "      <td>0.377070</td>\n",
       "      <td>0.376516</td>\n",
       "      <td>0.385805</td>\n",
       "      <td>0.374844</td>\n",
       "      <td>0.379506</td>\n",
       "      <td>0.379645</td>\n",
       "      <td>0.379184</td>\n",
       "      <td>0.380454</td>\n",
       "      <td>0.377919</td>\n",
       "    </tr>\n",
       "    <tr>\n",
       "      <th>precision@10</th>\n",
       "      <td>0.012690</td>\n",
       "      <td>0.001214</td>\n",
       "      <td>0.001211</td>\n",
       "      <td>0.002906</td>\n",
       "      <td>0.009581</td>\n",
       "      <td>0.009590</td>\n",
       "      <td>0.008807</td>\n",
       "      <td>0.009865</td>\n",
       "      <td>0.009974</td>\n",
       "      <td>0.009144</td>\n",
       "      <td>0.010973</td>\n",
       "      <td>0.011031</td>\n",
       "      <td>0.008779</td>\n",
       "    </tr>\n",
       "    <tr>\n",
       "      <th>precision@10+/-95%conf.int.</th>\n",
       "      <td>0.058351</td>\n",
       "      <td>0.007039</td>\n",
       "      <td>0.007038</td>\n",
       "      <td>0.017936</td>\n",
       "      <td>0.043392</td>\n",
       "      <td>0.043360</td>\n",
       "      <td>0.045376</td>\n",
       "      <td>0.043706</td>\n",
       "      <td>0.043721</td>\n",
       "      <td>0.045392</td>\n",
       "      <td>0.058200</td>\n",
       "      <td>0.058181</td>\n",
       "      <td>0.042212</td>\n",
       "    </tr>\n",
       "    <tr>\n",
       "      <th>precison@20</th>\n",
       "      <td>0.016425</td>\n",
       "      <td>0.002104</td>\n",
       "      <td>0.002123</td>\n",
       "      <td>0.005182</td>\n",
       "      <td>0.013804</td>\n",
       "      <td>0.013864</td>\n",
       "      <td>0.012704</td>\n",
       "      <td>0.014071</td>\n",
       "      <td>0.014208</td>\n",
       "      <td>0.013255</td>\n",
       "      <td>0.014351</td>\n",
       "      <td>0.014398</td>\n",
       "      <td>0.012797</td>\n",
       "    </tr>\n",
       "    <tr>\n",
       "      <th>precison@20+/-95%conf.int.</th>\n",
       "      <td>0.059234</td>\n",
       "      <td>0.012577</td>\n",
       "      <td>0.012566</td>\n",
       "      <td>0.028210</td>\n",
       "      <td>0.057172</td>\n",
       "      <td>0.057136</td>\n",
       "      <td>0.059172</td>\n",
       "      <td>0.056934</td>\n",
       "      <td>0.057009</td>\n",
       "      <td>0.059012</td>\n",
       "      <td>0.059393</td>\n",
       "      <td>0.059436</td>\n",
       "      <td>0.055746</td>\n",
       "    </tr>\n",
       "    <tr>\n",
       "      <th>MAP</th>\n",
       "      <td>0.114180</td>\n",
       "      <td>0.035822</td>\n",
       "      <td>0.036077</td>\n",
       "      <td>0.058966</td>\n",
       "      <td>0.092301</td>\n",
       "      <td>0.092532</td>\n",
       "      <td>0.087870</td>\n",
       "      <td>0.091326</td>\n",
       "      <td>0.091587</td>\n",
       "      <td>0.085549</td>\n",
       "      <td>0.090937</td>\n",
       "      <td>0.091136</td>\n",
       "      <td>0.083550</td>\n",
       "    </tr>\n",
       "    <tr>\n",
       "      <th>MAP+/-95%conf.int.</th>\n",
       "      <td>0.202780</td>\n",
       "      <td>0.111919</td>\n",
       "      <td>0.112146</td>\n",
       "      <td>0.160188</td>\n",
       "      <td>0.177850</td>\n",
       "      <td>0.177680</td>\n",
       "      <td>0.201623</td>\n",
       "      <td>0.176927</td>\n",
       "      <td>0.176824</td>\n",
       "      <td>0.199108</td>\n",
       "      <td>0.177247</td>\n",
       "      <td>0.177112</td>\n",
       "      <td>0.196968</td>\n",
       "    </tr>\n",
       "  </tbody>\n",
       "</table>\n",
       "</div>"
      ],
      "text/plain": [
       "                             baseline_bm25_scores  \\\n",
       "recall@10                                0.026302   \n",
       "recall@10+/-95%conf.int.                 0.152034   \n",
       "recall@20                                0.036381   \n",
       "recall@20+/-95%conf.int.                 0.151037   \n",
       "ndcg@10                                  0.272039   \n",
       "ndcg@10+/-95%conf.int.                   0.474178   \n",
       "ndcg@20                                  0.244637   \n",
       "ndcg@20+/-95%conf.int.                   0.397546   \n",
       "precision@10                             0.012690   \n",
       "precision@10+/-95%conf.int.              0.058351   \n",
       "precison@20                              0.016425   \n",
       "precison@20+/-95%conf.int.               0.059234   \n",
       "MAP                                      0.114180   \n",
       "MAP+/-95%conf.int.                       0.202780   \n",
       "\n",
       "                             normal_expanded_0_threshold  \\\n",
       "recall@10                                       0.002118   \n",
       "recall@10+/-95%conf.int.                        0.009388   \n",
       "recall@20                                       0.005173   \n",
       "recall@20+/-95%conf.int.                        0.019197   \n",
       "ndcg@10                                         0.060980   \n",
       "ndcg@10+/-95%conf.int.                          0.338321   \n",
       "ndcg@20                                         0.064788   \n",
       "ndcg@20+/-95%conf.int.                          0.316419   \n",
       "precision@10                                    0.001214   \n",
       "precision@10+/-95%conf.int.                     0.007039   \n",
       "precison@20                                     0.002104   \n",
       "precison@20+/-95%conf.int.                      0.012577   \n",
       "MAP                                             0.035822   \n",
       "MAP+/-95%conf.int.                              0.111919   \n",
       "\n",
       "                             normal_expanded_35_threshold  \\\n",
       "recall@10                                        0.002171   \n",
       "recall@10+/-95%conf.int.                         0.009371   \n",
       "recall@20                                        0.005327   \n",
       "recall@20+/-95%conf.int.                         0.019198   \n",
       "ndcg@10                                          0.061466   \n",
       "ndcg@10+/-95%conf.int.                           0.337685   \n",
       "ndcg@20                                          0.066006   \n",
       "ndcg@20+/-95%conf.int.                           0.316128   \n",
       "precision@10                                     0.001211   \n",
       "precision@10+/-95%conf.int.                      0.007038   \n",
       "precison@20                                      0.002123   \n",
       "precison@20+/-95%conf.int.                       0.012566   \n",
       "MAP                                              0.036077   \n",
       "MAP+/-95%conf.int.                               0.112146   \n",
       "\n",
       "                             normal_expanded_60_threshold  \\\n",
       "recall@10                                        0.007930   \n",
       "recall@10+/-95%conf.int.                         0.062109   \n",
       "recall@20                                        0.015830   \n",
       "recall@20+/-95%conf.int.                         0.094464   \n",
       "ndcg@10                                          0.085482   \n",
       "ndcg@10+/-95%conf.int.                           0.345239   \n",
       "ndcg@20                                          0.096886   \n",
       "ndcg@20+/-95%conf.int.                           0.337481   \n",
       "precision@10                                     0.002906   \n",
       "precision@10+/-95%conf.int.                      0.017936   \n",
       "precison@20                                      0.005182   \n",
       "precison@20+/-95%conf.int.                       0.028210   \n",
       "MAP                                              0.058966   \n",
       "MAP+/-95%conf.int.                               0.160188   \n",
       "\n",
       "                             weighted_1-to-1_expanded_0_threshold  \\\n",
       "recall@10                                                0.021112   \n",
       "recall@10+/-95%conf.int.                                 0.122272   \n",
       "recall@20                                                0.032046   \n",
       "recall@20+/-95%conf.int.                                 0.153179   \n",
       "ndcg@10                                                  0.218789   \n",
       "ndcg@10+/-95%conf.int.                                   0.419585   \n",
       "ndcg@20                                                  0.199794   \n",
       "ndcg@20+/-95%conf.int.                                   0.377070   \n",
       "precision@10                                             0.009581   \n",
       "precision@10+/-95%conf.int.                              0.043392   \n",
       "precison@20                                              0.013804   \n",
       "precison@20+/-95%conf.int.                               0.057172   \n",
       "MAP                                                      0.092301   \n",
       "MAP+/-95%conf.int.                                       0.177850   \n",
       "\n",
       "                             weighted_1-to-1_expanded_35_threshold  \\\n",
       "recall@10                                                 0.021155   \n",
       "recall@10+/-95%conf.int.                                  0.122251   \n",
       "recall@20                                                 0.032231   \n",
       "recall@20+/-95%conf.int.                                  0.153099   \n",
       "ndcg@10                                                   0.220016   \n",
       "ndcg@10+/-95%conf.int.                                    0.418374   \n",
       "ndcg@20                                                   0.200999   \n",
       "ndcg@20+/-95%conf.int.                                    0.376516   \n",
       "precision@10                                              0.009590   \n",
       "precision@10+/-95%conf.int.                               0.043360   \n",
       "precison@20                                               0.013864   \n",
       "precison@20+/-95%conf.int.                                0.057136   \n",
       "MAP                                                       0.092532   \n",
       "MAP+/-95%conf.int.                                        0.177680   \n",
       "\n",
       "                             weighted_1-to-1_expanded_60_threshold  \\\n",
       "recall@10                                                 0.020082   \n",
       "recall@10+/-95%conf.int.                                  0.122238   \n",
       "recall@20                                                 0.029921   \n",
       "recall@20+/-95%conf.int.                                  0.153717   \n",
       "ndcg@10                                                   0.208221   \n",
       "ndcg@10+/-95%conf.int.                                    0.412348   \n",
       "ndcg@20                                                   0.190279   \n",
       "ndcg@20+/-95%conf.int.                                    0.385805   \n",
       "precision@10                                              0.008807   \n",
       "precision@10+/-95%conf.int.                               0.045376   \n",
       "precison@20                                               0.012704   \n",
       "precison@20+/-95%conf.int.                                0.059172   \n",
       "MAP                                                       0.087870   \n",
       "MAP+/-95%conf.int.                                        0.201623   \n",
       "\n",
       "                             weighted_2-to-1_expanded_0_threshold  \\\n",
       "recall@10                                                0.021301   \n",
       "recall@10+/-95%conf.int.                                 0.122203   \n",
       "recall@20                                                0.032399   \n",
       "recall@20+/-95%conf.int.                                 0.152678   \n",
       "ndcg@10                                                  0.217991   \n",
       "ndcg@10+/-95%conf.int.                                   0.415517   \n",
       "ndcg@20                                                  0.201024   \n",
       "ndcg@20+/-95%conf.int.                                   0.374844   \n",
       "precision@10                                             0.009865   \n",
       "precision@10+/-95%conf.int.                              0.043706   \n",
       "precison@20                                              0.014071   \n",
       "precison@20+/-95%conf.int.                               0.056934   \n",
       "MAP                                                      0.091326   \n",
       "MAP+/-95%conf.int.                                       0.176927   \n",
       "\n",
       "                             weighted_2-to-1_expanded_35_threshold  \\\n",
       "recall@10                                                 0.021376   \n",
       "recall@10+/-95%conf.int.                                  0.122165   \n",
       "recall@20                                                 0.032415   \n",
       "recall@20+/-95%conf.int.                                  0.152737   \n",
       "ndcg@10                                                   0.219507   \n",
       "ndcg@10+/-95%conf.int.                                    0.418371   \n",
       "ndcg@20                                                   0.201688   \n",
       "ndcg@20+/-95%conf.int.                                    0.379506   \n",
       "precision@10                                              0.009974   \n",
       "precision@10+/-95%conf.int.                               0.043721   \n",
       "precison@20                                               0.014208   \n",
       "precison@20+/-95%conf.int.                                0.057009   \n",
       "MAP                                                       0.091587   \n",
       "MAP+/-95%conf.int.                                        0.176824   \n",
       "\n",
       "                             weighted_2-to-1_expanded_60_threshold  \\\n",
       "recall@10                                                 0.020272   \n",
       "recall@10+/-95%conf.int.                                  0.122199   \n",
       "recall@20                                                 0.030473   \n",
       "recall@20+/-95%conf.int.                                  0.153434   \n",
       "ndcg@10                                                   0.213059   \n",
       "ndcg@10+/-95%conf.int.                                    0.426942   \n",
       "ndcg@20                                                   0.192323   \n",
       "ndcg@20+/-95%conf.int.                                    0.379645   \n",
       "precision@10                                              0.009144   \n",
       "precision@10+/-95%conf.int.                               0.045392   \n",
       "precison@20                                               0.013255   \n",
       "precison@20+/-95%conf.int.                                0.059012   \n",
       "MAP                                                       0.085549   \n",
       "MAP+/-95%conf.int.                                        0.199108   \n",
       "\n",
       "                             weighted_3-to-1_expanded_0_threshold  \\\n",
       "recall@10                                                0.023314   \n",
       "recall@10+/-95%conf.int.                                 0.152608   \n",
       "recall@20                                                0.032513   \n",
       "recall@20+/-95%conf.int.                                 0.152746   \n",
       "ndcg@10                                                  0.215131   \n",
       "ndcg@10+/-95%conf.int.                                   0.427835   \n",
       "ndcg@20                                                  0.201481   \n",
       "ndcg@20+/-95%conf.int.                                   0.379184   \n",
       "precision@10                                             0.010973   \n",
       "precision@10+/-95%conf.int.                              0.058200   \n",
       "precison@20                                              0.014351   \n",
       "precison@20+/-95%conf.int.                               0.059393   \n",
       "MAP                                                      0.090937   \n",
       "MAP+/-95%conf.int.                                       0.177247   \n",
       "\n",
       "                             weighted_3-to-1_expanded_35_threshold  \\\n",
       "recall@10                                                 0.023451   \n",
       "recall@10+/-95%conf.int.                                  0.152550   \n",
       "recall@20                                                 0.032403   \n",
       "recall@20+/-95%conf.int.                                  0.152783   \n",
       "ndcg@10                                                   0.216556   \n",
       "ndcg@10+/-95%conf.int.                                    0.426767   \n",
       "ndcg@20                                                   0.200837   \n",
       "ndcg@20+/-95%conf.int.                                    0.380454   \n",
       "precision@10                                              0.011031   \n",
       "precision@10+/-95%conf.int.                               0.058181   \n",
       "precison@20                                               0.014398   \n",
       "precison@20+/-95%conf.int.                                0.059436   \n",
       "MAP                                                       0.091136   \n",
       "MAP+/-95%conf.int.                                        0.177112   \n",
       "\n",
       "                             weighted_3-to-1_expanded_60_threshold  \n",
       "recall@10                                                 0.020243  \n",
       "recall@10+/-95%conf.int.                                  0.122039  \n",
       "recall@20                                                 0.030493  \n",
       "recall@20+/-95%conf.int.                                  0.152660  \n",
       "ndcg@10                                                   0.211183  \n",
       "ndcg@10+/-95%conf.int.                                    0.436072  \n",
       "ndcg@20                                                   0.189954  \n",
       "ndcg@20+/-95%conf.int.                                    0.377919  \n",
       "precision@10                                              0.008779  \n",
       "precision@10+/-95%conf.int.                               0.042212  \n",
       "precison@20                                               0.012797  \n",
       "precison@20+/-95%conf.int.                                0.055746  \n",
       "MAP                                                       0.083550  \n",
       "MAP+/-95%conf.int.                                        0.196968  "
      ]
     },
     "execution_count": 10,
     "metadata": {},
     "output_type": "execute_result"
    }
   ],
   "source": [
    "# Create final table of evaluation scores\n",
    "file_names = [\n",
    "    'baseline_bm25_scores_eval.json',\n",
    "    'normal_expanded_0_threshold_eval.json',\n",
    "    'normal_expanded_35_threshold_eval.json',\n",
    "    'normal_expanded_60_threshold_eval.json',\n",
    "    'weighted_1-to-1_expanded_0_threshold_eval.json',    \n",
    "    'weighted_1-to-1_expanded_35_threshold_eval.json',\n",
    "    'weighted_1-to-1_expanded_60_threshold_eval.json',\n",
    "    'weighted_2-to-1_expanded_0_threshold_eval.json',    \n",
    "    'weighted_2-to-1_expanded_35_threshold_eval.json',\n",
    "    'weighted_2-to-1_expanded_60_threshold_eval.json',        \n",
    "    'weighted_3-to-1_expanded_0_threshold_eval.json',\n",
    "    'weighted_3-to-1_expanded_35_threshold_eval.json',\n",
    "    'weighted_3-to-1_expanded_60_threshold_eval.json'\n",
    "]\n",
    "\n",
    "metrics = ['recall_10', 'recall_20', 'ndcg_cut_10', 'ndcg_cut_20', 'map_cut_10', 'map_cut_20', 'map']\n",
    "index = ['recall@10', 'recall@20', 'ndcg@10', 'ndcg@20', 'precision@10', 'precison@20', 'MAP']\n",
    "\n",
    "headers = [fn.replace('_eval.json', '') for fn in file_names]\n",
    "\n",
    "eval_table = pd.DataFrame([])\n",
    "\n",
    "for fn, head in zip(file_names, headers):\n",
    "    strat_table = pd.DataFrame([])\n",
    "\n",
    "    for metric, id in zip(metrics, index):\n",
    "        mean = pd.read_json(fn).mean(axis=1).loc[metric]\n",
    "        std = pd.read_json(fn).std(axis=1).loc[metric]\n",
    "        conf_int = 1.96 * std\n",
    "        sub_table = pd.DataFrame([mean, conf_int], index=[id, f'{id}+/-95%conf.int.'], columns=[head])\n",
    "        strat_table = pd.concat([strat_table, sub_table], axis=0)\n",
    "    \n",
    "    eval_table = pd.concat([eval_table, strat_table], axis=1)\n",
    "\n",
    "ordered_columns = [\n",
    "    'baseline_bm25_scores',\n",
    "    'normal_expanded_0_threshold',\n",
    "    'normal_expanded_35_threshold',\n",
    "    'normal_expanded_60_threshold',\n",
    "    'weighted_1-to-1_expanded_0_threshold',    \n",
    "    'weighted_1-to-1_expanded_35_threshold',\n",
    "    'weighted_1-to-1_expanded_60_threshold',\n",
    "    'weighted_2-to-1_expanded_0_threshold',    \n",
    "    'weighted_2-to-1_expanded_35_threshold',\n",
    "    'weighted_2-to-1_expanded_60_threshold',        \n",
    "    'weighted_3-to-1_expanded_0_threshold',\n",
    "    'weighted_3-to-1_expanded_35_threshold',\n",
    "    'weighted_3-to-1_expanded_60_threshold'\n",
    "]\n",
    "\n",
    "eval_table = eval_table[ordered_columns]\n",
    "\n",
    "eval_table.to_html('eval_table.html')\n",
    "eval_table.to_latex('eval_table.tex')\n",
    "\n",
    "eval_table"
   ]
  }
 ],
 "metadata": {
  "kernelspec": {
   "display_name": ".venv",
   "language": "python",
   "name": "python3"
  },
  "language_info": {
   "codemirror_mode": {
    "name": "ipython",
    "version": 3
   },
   "file_extension": ".py",
   "mimetype": "text/x-python",
   "name": "python",
   "nbconvert_exporter": "python",
   "pygments_lexer": "ipython3",
   "version": "3.10.12"
  }
 },
 "nbformat": 4,
 "nbformat_minor": 2
}
